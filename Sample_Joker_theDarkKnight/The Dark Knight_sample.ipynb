{
 "cells": [
  {
   "cell_type": "markdown",
   "metadata": {},
   "source": [
    "# Sample run of Sentiment Analysis of Joker quotes.\n",
    "\n",
    "<p>Prepared by: <a href = 'https://github.com/sagsshakya'>Sagun Shakya</a></p>\n",
    "- GITAM Institute of Science."
   ]
  },
  {
   "cell_type": "code",
   "execution_count": 1,
   "metadata": {},
   "outputs": [],
   "source": [
    "import requests\n",
    "import pandas as pd\n",
    "from bs4 import BeautifulSoup as BS\n",
    "import os\n",
    "os.chdir(r'C:\\Users\\acer\\Desktop\\PythonProgramming')"
   ]
  },
  {
   "cell_type": "code",
   "execution_count": 2,
   "metadata": {},
   "outputs": [],
   "source": [
    "url = 'https://en.wikiquote.org/wiki/The_Dark_Knight_(film)'\n",
    "page = requests.get(url)"
   ]
  },
  {
   "cell_type": "code",
   "execution_count": 3,
   "metadata": {},
   "outputs": [],
   "source": [
    "soup = BS(page.text, 'html.parser')"
   ]
  },
  {
   "cell_type": "code",
   "execution_count": 4,
   "metadata": {},
   "outputs": [],
   "source": [
    "#print(soup.prettify())"
   ]
  },
  {
   "cell_type": "code",
   "execution_count": 5,
   "metadata": {},
   "outputs": [
    {
     "data": {
      "text/plain": [
       "[<li>I believe that whatever doesn't kill you, simply makes you... <i><b>stranger</b></i>.</li>,\n",
       " <li>Do you wanna know how I got these scars?  My father was a drinker, and a fiend.  And one night, he goes off <i>crazier</i> than usual.  Mommy gets the kitchen knife to defend herself.  He doesn't like that.  <i>Not. One. Bit</i>. So, me watching, he takes the knife to her, laughing while he does it.  He turns to me, and he says, <b>\"Why so serious?\"</b>  He comes at me with the knife. <b>\"Why so <i>SERIOUS?!</i>\"</b>  He sticks the blade in my mouth—<b>\"Let's put a <i>smile</i> on that <i>face</i>!\"</b>  Aaaand... <b>Why so serious?</b></li>,\n",
       " <li>Don't talk like one of them! You're not - even if you'd like to be. To them, you're just a freak, like me. They need you right now, but when they don't, they'll cast you out - like a leper. See, their \"morals\", their \"code\"... it's a bad joke, dropped at the first sign of trouble.  They're only as good as the world allows them to be. I'll show you. When the chips are down, these, ah, \"civilized people\"? <b>They'll <i>eat</i> each other</b>. See, I'm not a monster. I'm just ahead of the curve.</li>,\n",
       " <li>You know what I've noticed? Nobody panics when things go \"according to plan\"... even if the plan is horrifying. If, tomorrow, I tell the press that, like, a gang-banger will get shot, or a truckload of soldiers will be blowing up, nobody panics, because \"it's all part of the plan\". But I say that <i>one</i> little old mayor will die... <i><b>well then everyone loses their minds!</b></i> Introduce a little anarchy. Upset the established order, and everything becomes chaos. <b>I'm an agent of chaos</b>. Oh, and you know the thing about chaos? It's <i><b>fair</b></i>.</li>,\n",
       " <li>Do I really look like a guy with a plan? You know what I am? I'm a dog chasing cars. I wouldn't know what to do with one if I caught it! You know, I just... <i>do</i> things.</li>]"
      ]
     },
     "execution_count": 5,
     "metadata": {},
     "output_type": "execute_result"
    }
   ],
   "source": [
    "scripts = soup.find_all('ul')\n",
    "joker = scripts[2].find_all('li')\n",
    "joker"
   ]
  },
  {
   "cell_type": "code",
   "execution_count": 6,
   "metadata": {},
   "outputs": [
    {
     "name": "stdout",
     "output_type": "stream",
     "text": [
      "5\n"
     ]
    }
   ],
   "source": [
    "joker_list = [ii.text for ii in joker]\n",
    "print(len(joker_list))"
   ]
  },
  {
   "cell_type": "code",
   "execution_count": 7,
   "metadata": {},
   "outputs": [
    {
     "name": "stdout",
     "output_type": "stream",
     "text": [
      "I believe that whatever doesn't kill you, simply makes you... stranger.\n",
      "--------------\n",
      "\n",
      "\n",
      "Do you wanna know how I got these scars?  My father was a drinker, and a fiend.  And one night, he goes off crazier than usual.  Mommy gets the kitchen knife to defend herself.  He doesn't like that.  Not. One. Bit. So, me watching, he takes the knife to her, laughing while he does it.  He turns to me, and he says, \"Why so serious?\"  He comes at me with the knife. \"Why so SERIOUS?!\"  He sticks the blade in my mouth—\"Let's put a smile on that face!\"  Aaaand... Why so serious?\n",
      "--------------\n",
      "\n",
      "\n",
      "Don't talk like one of them! You're not - even if you'd like to be. To them, you're just a freak, like me. They need you right now, but when they don't, they'll cast you out - like a leper. See, their \"morals\", their \"code\"... it's a bad joke, dropped at the first sign of trouble.  They're only as good as the world allows them to be. I'll show you. When the chips are down, these, ah, \"civilized people\"? They'll eat each other. See, I'm not a monster. I'm just ahead of the curve.\n",
      "--------------\n",
      "\n",
      "\n",
      "You know what I've noticed? Nobody panics when things go \"according to plan\"... even if the plan is horrifying. If, tomorrow, I tell the press that, like, a gang-banger will get shot, or a truckload of soldiers will be blowing up, nobody panics, because \"it's all part of the plan\". But I say that one little old mayor will die... well then everyone loses their minds! Introduce a little anarchy. Upset the established order, and everything becomes chaos. I'm an agent of chaos. Oh, and you know the thing about chaos? It's fair.\n",
      "--------------\n",
      "\n",
      "\n",
      "Do I really look like a guy with a plan? You know what I am? I'm a dog chasing cars. I wouldn't know what to do with one if I caught it! You know, I just... do things.\n",
      "--------------\n",
      "\n",
      "\n"
     ]
    }
   ],
   "source": [
    "for ii in joker_list:\n",
    "    print(ii)\n",
    "    print('--------------')\n",
    "    print('\\n')"
   ]
  },
  {
   "cell_type": "markdown",
   "metadata": {},
   "source": [
    "### Creating a dataframe."
   ]
  },
  {
   "cell_type": "code",
   "execution_count": 8,
   "metadata": {},
   "outputs": [
    {
     "data": {
      "text/html": [
       "<div>\n",
       "<style scoped>\n",
       "    .dataframe tbody tr th:only-of-type {\n",
       "        vertical-align: middle;\n",
       "    }\n",
       "\n",
       "    .dataframe tbody tr th {\n",
       "        vertical-align: top;\n",
       "    }\n",
       "\n",
       "    .dataframe thead th {\n",
       "        text-align: right;\n",
       "    }\n",
       "</style>\n",
       "<table border=\"1\" class=\"dataframe\">\n",
       "  <thead>\n",
       "    <tr style=\"text-align: right;\">\n",
       "      <th></th>\n",
       "      <th>quote</th>\n",
       "    </tr>\n",
       "  </thead>\n",
       "  <tbody>\n",
       "    <tr>\n",
       "      <td>0</td>\n",
       "      <td>I believe that whatever doesn't kill you, simp...</td>\n",
       "    </tr>\n",
       "    <tr>\n",
       "      <td>1</td>\n",
       "      <td>Do you wanna know how I got these scars?  My f...</td>\n",
       "    </tr>\n",
       "    <tr>\n",
       "      <td>2</td>\n",
       "      <td>Don't talk like one of them! You're not - even...</td>\n",
       "    </tr>\n",
       "    <tr>\n",
       "      <td>3</td>\n",
       "      <td>You know what I've noticed? Nobody panics when...</td>\n",
       "    </tr>\n",
       "    <tr>\n",
       "      <td>4</td>\n",
       "      <td>Do I really look like a guy with a plan? You k...</td>\n",
       "    </tr>\n",
       "  </tbody>\n",
       "</table>\n",
       "</div>"
      ],
      "text/plain": [
       "                                               quote\n",
       "0  I believe that whatever doesn't kill you, simp...\n",
       "1  Do you wanna know how I got these scars?  My f...\n",
       "2  Don't talk like one of them! You're not - even...\n",
       "3  You know what I've noticed? Nobody panics when...\n",
       "4  Do I really look like a guy with a plan? You k..."
      ]
     },
     "execution_count": 8,
     "metadata": {},
     "output_type": "execute_result"
    }
   ],
   "source": [
    "jokerdf = pd.DataFrame({'quote': joker_list})\n",
    "jokerdf"
   ]
  },
  {
   "cell_type": "markdown",
   "metadata": {},
   "source": [
    "## Cleaning the text.\n",
    "- This includes removing non - significant words like 'the', 'a', etc. and some punctuation marks. \n",
    "- Stemming: For the word 'loves' or 'loved', we will only choose 'love'.\n",
    "\n",
    "<p>\n",
    "To learn more about RegEx, <a href = 'https://github.com/sagsshakya/Pandas-Notes/blob/master/Regular%20Expressions/Regular_Expressions.ipynb'>CLICK HERE</a>\n",
    "</p>"
   ]
  },
  {
   "cell_type": "markdown",
   "metadata": {},
   "source": [
    "## Data Cleaning.\n",
    "- Removing non-word characters.\n",
    "- Converting all the words into lower case.\n",
    "- Removing extra spaces."
   ]
  },
  {
   "cell_type": "code",
   "execution_count": 9,
   "metadata": {},
   "outputs": [
    {
     "name": "stdout",
     "output_type": "stream",
     "text": [
      "i believe that whatever doesn t kill you simply makes you stranger \n",
      "--------------\n",
      "\n",
      "\n",
      "do you wanna know how i got these scars my father was a drinker and a fiend and one night he goes off crazier than usual mommy gets the kitchen knife to defend herself he doesn t like that not one bit so me watching he takes the knife to her laughing while he does it he turns to me and he says why so serious he comes at me with the knife why so serious he sticks the blade in my mouth let s put a smile on that face aaaand why so serious \n",
      "--------------\n",
      "\n",
      "\n",
      "don t talk like one of them you re not even if you d like to be to them you re just a freak like me they need you right now but when they don t they ll cast you out like a leper see their morals their code it s a bad joke dropped at the first sign of trouble they re only as good as the world allows them to be i ll show you when the chips are down these ah civilized people they ll eat each other see i m not a monster i m just ahead of the curve \n",
      "--------------\n",
      "\n",
      "\n",
      "you know what i ve noticed nobody panics when things go according to plan even if the plan is horrifying if tomorrow i tell the press that like a gang banger will get shot or a truckload of soldiers will be blowing up nobody panics because it s all part of the plan but i say that one little old mayor will die well then everyone loses their minds introduce a little anarchy upset the established order and everything becomes chaos i m an agent of chaos oh and you know the thing about chaos it s fair \n",
      "--------------\n",
      "\n",
      "\n",
      "do i really look like a guy with a plan you know what i am i m a dog chasing cars i wouldn t know what to do with one if i caught it you know i just do things \n",
      "--------------\n",
      "\n",
      "\n"
     ]
    }
   ],
   "source": [
    "import re\n",
    "for ii in range(len(jokerdf['quote'])):\n",
    "    jokerdf['quote'][ii] = re.sub('[^a-zA-Z]', ' ' , jokerdf['quote'][ii], flags = re.IGNORECASE)\n",
    "    # We can use '\\W' (non - alphanumeric character or non - word character) instead of '[^a-zA-Z]'.\n",
    "\n",
    "    #Convert into LowerCase.\n",
    "    jokerdf['quote'][ii] = jokerdf['quote'][ii].lower()\n",
    "    \n",
    "    # Removing extra spaces.\n",
    "    jokerdf['quote'][ii] = jokerdf['quote'][ii].replace('    ',' ')\n",
    "    jokerdf['quote'][ii] = jokerdf['quote'][ii].replace('   ',' ')\n",
    "    jokerdf['quote'][ii] = jokerdf['quote'][ii].replace('  ',' ')\n",
    "    \n",
    "    print(jokerdf['quote'][ii])\n",
    "    print('--------------')\n",
    "    print('\\n')"
   ]
  },
  {
   "cell_type": "markdown",
   "metadata": {},
   "source": [
    "### Removing all the non - significant words."
   ]
  },
  {
   "cell_type": "code",
   "execution_count": 10,
   "metadata": {},
   "outputs": [],
   "source": [
    "import re\n",
    "import nltk\n",
    "from nltk.corpus import stopwords\n",
    "from nltk.stem.porter import PorterStemmer as PS\n",
    "\n",
    "ps = PS()"
   ]
  },
  {
   "cell_type": "code",
   "execution_count": 11,
   "metadata": {},
   "outputs": [],
   "source": [
    "corpus = []\n",
    "for jj in range(jokerdf.shape[0]):\n",
    "\n",
    "    # Splitting the string review using a whitespace.\n",
    "    review = jokerdf['quote'][jj].split()\n",
    "    \n",
    "    # The list of stopwords in the English language can be viewed as:\n",
    "    mystopper = set(stopwords.words('english'))\n",
    "    \n",
    "    # Stemming.\n",
    "    review = [ps.stem(ii) for ii in review if not ii in mystopper]\n",
    "    \n",
    "    # Joing the list into a string.\n",
    "    review = ' '.join(review)\n",
    "    \n",
    "    corpus.append(review)"
   ]
  },
  {
   "cell_type": "code",
   "execution_count": 12,
   "metadata": {},
   "outputs": [
    {
     "data": {
      "text/plain": [
       "['believ whatev kill simpli make stranger',\n",
       " 'wanna know got scar father drinker fiend one night goe crazier usual mommi get kitchen knife defend like one bit watch take knife laugh turn say seriou come knife seriou stick blade mouth let put smile face aaaand seriou',\n",
       " 'talk like one even like freak like need right cast like leper see moral code bad joke drop first sign troubl good world allow show chip ah civil peopl eat see monster ahead curv',\n",
       " 'know notic nobodi panic thing go accord plan even plan horrifi tomorrow tell press like gang banger get shot truckload soldier blow nobodi panic part plan say one littl old mayor die well everyon lose mind introduc littl anarchi upset establish order everyth becom chao agent chao oh know thing chao fair',\n",
       " 'realli look like guy plan know dog chase car know one caught know thing']"
      ]
     },
     "execution_count": 12,
     "metadata": {},
     "output_type": "execute_result"
    }
   ],
   "source": [
    "corpus"
   ]
  },
  {
   "cell_type": "markdown",
   "metadata": {},
   "source": [
    "### Creating a dataframe."
   ]
  },
  {
   "cell_type": "code",
   "execution_count": 13,
   "metadata": {},
   "outputs": [
    {
     "data": {
      "text/html": [
       "<div>\n",
       "<style scoped>\n",
       "    .dataframe tbody tr th:only-of-type {\n",
       "        vertical-align: middle;\n",
       "    }\n",
       "\n",
       "    .dataframe tbody tr th {\n",
       "        vertical-align: top;\n",
       "    }\n",
       "\n",
       "    .dataframe thead th {\n",
       "        text-align: right;\n",
       "    }\n",
       "</style>\n",
       "<table border=\"1\" class=\"dataframe\">\n",
       "  <thead>\n",
       "    <tr style=\"text-align: right;\">\n",
       "      <th></th>\n",
       "      <th>stemmed</th>\n",
       "    </tr>\n",
       "  </thead>\n",
       "  <tbody>\n",
       "    <tr>\n",
       "      <td>0</td>\n",
       "      <td>believ whatev kill simpli make stranger</td>\n",
       "    </tr>\n",
       "    <tr>\n",
       "      <td>1</td>\n",
       "      <td>wanna know got scar father drinker fiend one n...</td>\n",
       "    </tr>\n",
       "    <tr>\n",
       "      <td>2</td>\n",
       "      <td>talk like one even like freak like need right ...</td>\n",
       "    </tr>\n",
       "    <tr>\n",
       "      <td>3</td>\n",
       "      <td>know notic nobodi panic thing go accord plan e...</td>\n",
       "    </tr>\n",
       "    <tr>\n",
       "      <td>4</td>\n",
       "      <td>realli look like guy plan know dog chase car k...</td>\n",
       "    </tr>\n",
       "  </tbody>\n",
       "</table>\n",
       "</div>"
      ],
      "text/plain": [
       "                                             stemmed\n",
       "0            believ whatev kill simpli make stranger\n",
       "1  wanna know got scar father drinker fiend one n...\n",
       "2  talk like one even like freak like need right ...\n",
       "3  know notic nobodi panic thing go accord plan e...\n",
       "4  realli look like guy plan know dog chase car k..."
      ]
     },
     "execution_count": 13,
     "metadata": {},
     "output_type": "execute_result"
    }
   ],
   "source": [
    "df_corpus = pd.DataFrame({'stemmed':corpus})\n",
    "df_corpus.head(10)"
   ]
  },
  {
   "cell_type": "markdown",
   "metadata": {},
   "source": [
    "## Creating the Bag of Words Model.\n",
    "<dl>\n",
    "    <dt><b>Tokenization:</b></dt>\n",
    "    <dd>Taking all the unique words from all the tuples and creating a separate column for each.</dd>\n",
    "</dl>"
   ]
  },
  {
   "cell_type": "code",
   "execution_count": 14,
   "metadata": {},
   "outputs": [],
   "source": [
    "from sklearn.feature_extraction.text import CountVectorizer"
   ]
  },
  {
   "cell_type": "markdown",
   "metadata": {},
   "source": [
    "- class sklearn.feature_extraction.text.CountVectorizer(input='content', encoding='utf-8', decode_error='strict', strip_accents=None, lowercase=True, preprocessor=None, tokenizer=None, stop_words=None, token_pattern='(?u)\\b\\w\\w+\\b', ngram_range=(1, 1), analyzer='word', max_df=1.0, min_df=1, max_features=None, vocabulary=None, binary=False, dtype=<class 'numpy.int64'>)\n",
    "<a href = 'https://scikit-learn.org/stable/modules/generated/sklearn.feature_extraction.text.CountVectorizer.html'>Documentation</a>"
   ]
  },
  {
   "cell_type": "code",
   "execution_count": 15,
   "metadata": {},
   "outputs": [
    {
     "data": {
      "text/plain": [
       "array([[0, 0, 0, 0, 0, 0, 0, 0, 0, 0, 1, 0, 0, 0, 0, 0, 0, 0, 0, 0, 0, 0,\n",
       "        0, 0, 0, 0, 0, 0, 0, 0, 0, 0, 0, 0, 0, 0, 0, 0, 0, 0, 0, 0, 0, 0,\n",
       "        0, 0, 0, 0, 0, 0, 0, 1, 0, 0, 0, 0, 0, 0, 0, 0, 0, 0, 1, 0, 0, 0,\n",
       "        0, 0, 0, 0, 0, 0, 0, 0, 0, 0, 0, 0, 0, 0, 0, 0, 0, 0, 0, 0, 0, 0,\n",
       "        0, 0, 0, 0, 1, 0, 0, 0, 1, 0, 0, 0, 0, 0, 0, 0, 0, 0, 0, 0, 0, 0,\n",
       "        1, 0],\n",
       "       [1, 0, 0, 0, 0, 0, 0, 0, 0, 0, 0, 1, 1, 0, 0, 0, 0, 0, 0, 0, 0, 0,\n",
       "        1, 1, 0, 1, 0, 0, 1, 0, 0, 0, 0, 0, 0, 1, 0, 1, 1, 0, 0, 0, 1, 0,\n",
       "        1, 0, 1, 0, 0, 0, 0, 0, 1, 3, 1, 1, 0, 1, 1, 0, 0, 0, 0, 0, 0, 1,\n",
       "        0, 0, 1, 0, 1, 0, 0, 0, 0, 2, 0, 0, 0, 0, 0, 0, 1, 0, 0, 1, 1, 0,\n",
       "        3, 0, 0, 0, 0, 1, 0, 1, 0, 1, 0, 0, 0, 0, 0, 0, 1, 0, 1, 1, 1, 0,\n",
       "        0, 0],\n",
       "       [0, 0, 0, 1, 1, 1, 0, 1, 0, 0, 0, 0, 0, 0, 0, 1, 0, 0, 0, 1, 1, 1,\n",
       "        0, 0, 1, 0, 0, 0, 0, 1, 1, 0, 1, 0, 0, 0, 0, 0, 0, 1, 1, 0, 0, 0,\n",
       "        0, 1, 0, 0, 0, 0, 1, 0, 0, 0, 0, 0, 1, 0, 4, 0, 0, 0, 0, 0, 0, 0,\n",
       "        1, 1, 0, 1, 0, 0, 0, 0, 0, 1, 0, 0, 0, 1, 0, 0, 0, 0, 1, 0, 0, 2,\n",
       "        0, 0, 1, 1, 0, 0, 0, 0, 0, 0, 1, 0, 0, 0, 1, 0, 0, 0, 0, 0, 0, 0,\n",
       "        0, 1],\n",
       "       [0, 1, 1, 0, 0, 0, 1, 0, 1, 1, 0, 0, 0, 1, 0, 0, 0, 3, 0, 0, 0, 0,\n",
       "        0, 0, 0, 0, 1, 0, 0, 0, 0, 1, 1, 1, 1, 0, 1, 0, 0, 0, 0, 1, 1, 1,\n",
       "        0, 0, 0, 0, 1, 1, 0, 0, 0, 0, 2, 0, 0, 0, 1, 2, 0, 1, 0, 1, 1, 0,\n",
       "        0, 0, 0, 0, 0, 2, 1, 1, 1, 1, 1, 2, 1, 0, 3, 1, 0, 0, 0, 1, 0, 0,\n",
       "        0, 1, 0, 0, 0, 0, 1, 0, 0, 0, 0, 1, 2, 1, 0, 1, 0, 1, 0, 0, 0, 1,\n",
       "        0, 0],\n",
       "       [0, 0, 0, 0, 0, 0, 0, 0, 0, 0, 0, 0, 0, 0, 1, 0, 1, 0, 1, 0, 0, 0,\n",
       "        0, 0, 0, 0, 0, 1, 0, 0, 0, 0, 0, 0, 0, 0, 0, 0, 0, 0, 0, 0, 0, 0,\n",
       "        0, 0, 0, 1, 0, 0, 0, 0, 0, 0, 3, 0, 0, 0, 1, 0, 1, 0, 0, 0, 0, 0,\n",
       "        0, 0, 0, 0, 0, 0, 0, 0, 0, 1, 0, 0, 0, 0, 1, 0, 0, 1, 0, 0, 0, 0,\n",
       "        0, 0, 0, 0, 0, 0, 0, 0, 0, 0, 0, 0, 1, 0, 0, 0, 0, 0, 0, 0, 0, 0,\n",
       "        0, 0]], dtype=int64)"
      ]
     },
     "execution_count": 15,
     "metadata": {},
     "output_type": "execute_result"
    }
   ],
   "source": [
    "cv = CountVectorizer()\n",
    "X = cv.fit_transform(corpus).toarray()\n",
    "X"
   ]
  },
  {
   "cell_type": "code",
   "execution_count": 16,
   "metadata": {},
   "outputs": [
    {
     "data": {
      "text/plain": [
       "(5, 112)"
      ]
     },
     "execution_count": 16,
     "metadata": {},
     "output_type": "execute_result"
    }
   ],
   "source": [
    "X.shape"
   ]
  },
  {
   "cell_type": "markdown",
   "metadata": {},
   "source": [
    "#### There are 5 quotes set. And, there are 112 unique words in the bag of words model."
   ]
  },
  {
   "cell_type": "markdown",
   "metadata": {},
   "source": [
    "## Sentiment analysis."
   ]
  },
  {
   "cell_type": "markdown",
   "metadata": {},
   "source": [
    "1. **TextBlob Module:** Linguistic researchers have labeled the sentiment of words based on their domain expertise. Sentiment of words can vary based on where it is in a sentence. The TextBlob module allows us to take advantage of these labels.\n",
    "2. **Sentiment Labels:** Each word in a corpus is labeled in terms of polarity and subjectivity (there are more labels as well, but we're going to ignore them for now). A corpus' sentiment is the average of these.\n",
    "   * **Polarity**: How positive or negative a word is. -1 is very negative. +1 is very positive.\n",
    "   * **Subjectivity**: How subjective, or opinionated a word is. 0 is fact. +1 is very much an opinion."
   ]
  },
  {
   "cell_type": "code",
   "execution_count": 18,
   "metadata": {},
   "outputs": [],
   "source": [
    "from textblob import TextBlob as TB"
   ]
  },
  {
   "cell_type": "code",
   "execution_count": 28,
   "metadata": {},
   "outputs": [],
   "source": [
    "def senti(mystr):\n",
    "    return TB(mystr).sentiment"
   ]
  },
  {
   "cell_type": "code",
   "execution_count": 26,
   "metadata": {},
   "outputs": [
    {
     "name": "stdout",
     "output_type": "stream",
     "text": [
      "Sentiment(polarity=0.0, subjectivity=0.35714285714285715) \n",
      "\n",
      "Sentiment(polarity=-0.18999999999999995, subjectivity=0.47000000000000003) \n",
      "\n",
      "Sentiment(polarity=0.05057319223985891, subjectivity=0.544400352733686) \n",
      "\n",
      "Sentiment(polarity=-0.12916666666666665, subjectivity=0.5333333333333333) \n",
      "\n",
      "Sentiment(polarity=0.2, subjectivity=0.2) \n",
      "\n"
     ]
    }
   ],
   "source": [
    "for ii in range(len(jokerdf.quote)):   \n",
    "    print(TB(jokerdf.quote[ii]).sentiment, '\\n')"
   ]
  },
  {
   "cell_type": "code",
   "execution_count": 34,
   "metadata": {},
   "outputs": [],
   "source": [
    "pol_list = [TB(jokerdf.quote[ii]).sentiment.polarity for ii in range(len(jokerdf.quote))]\n",
    "sub_list = [TB(jokerdf.quote[ii]).sentiment.subjectivity for ii in range(len(jokerdf.quote))]"
   ]
  },
  {
   "cell_type": "code",
   "execution_count": 51,
   "metadata": {},
   "outputs": [
    {
     "data": {
      "image/png": "[encoded data removed]",
      "text/plain": [
       "<Figure size 1080x576 with 2 Axes>"
      ]
     },
     "metadata": {},
     "output_type": "display_data"
    }
   ],
   "source": [
    "from matplotlib import pyplot as plt\n",
    "import seaborn as sns\n",
    "import numpy as np\n",
    "\n",
    "plt.figure(figsize = (15,8))\n",
    "sns.set(style = 'whitegrid', font_scale = 1.2)\n",
    "\n",
    "plt.subplot(1,2,1)\n",
    "plt.plot(np.arange(1,len(jokerdf.quote)+1), pol_list, color = 'green')\n",
    "plt.scatter(np.arange(1,len(jokerdf.quote)+1), pol_list, color = 'red', marker = 'X')\n",
    "plt.hlines(0,1,len(jokerdf.quote))\n",
    "plt.title('Polarity of each quotes.')\n",
    "plt.xlabel('Quote number')\n",
    "plt.ylabel('Polarity')\n",
    "plt.xticks(np.arange(1,len(jokerdf.quote)+1))\n",
    "\n",
    "plt.subplot(1,2,2)\n",
    "plt.plot(np.arange(1,len(jokerdf.quote)+1), sub_list, color = 'blue')\n",
    "plt.scatter(np.arange(1,len(jokerdf.quote)+1), sub_list, color = 'red', marker = 'X')\n",
    "plt.title('Subjectivity of each quotes.')\n",
    "plt.xlabel('Quote number')\n",
    "plt.ylabel('Subjectivity')\n",
    "plt.xticks(np.arange(1,len(jokerdf.quote)+1))\n",
    "\n",
    "plt.show()"
   ]
  },
  {
   "cell_type": "markdown",
   "metadata": {},
   "source": [
    "# The End."
   ]
  }
 ],
 "metadata": {
  "kernelspec": {
   "display_name": "Python 3",
   "language": "python",
   "name": "python3"
  },
  "language_info": {
   "codemirror_mode": {
    "name": "ipython",
    "version": 3
   },
   "file_extension": ".py",
   "mimetype": "text/x-python",
   "name": "python",
   "nbconvert_exporter": "python",
   "pygments_lexer": "ipython3",
   "version": "3.7.2"
  }
 },
 "nbformat": 4,
 "nbformat_minor": 1
}
