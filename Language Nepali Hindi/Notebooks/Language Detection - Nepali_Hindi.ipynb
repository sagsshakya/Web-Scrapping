{
 "cells": [
  {
   "cell_type": "markdown",
   "metadata": {},
   "source": [
    "# Language Detection - Nepali / Hindi.\n",
    "- Prepared by: <a href = 'https://github.com/sagsshakya'> Sagun Shakya </a>\n",
    "- MSc. Data Science\n",
    "- GITAM Institute of Science, Visakhapatnam.\n",
    "- Email: sags.shakya@gmail.com"
   ]
  },
  {
   "cell_type": "markdown",
   "metadata": {},
   "source": [
    "- Here, we deploy classification algorithms like Naive Bayes Model, Random Forest Model and Logistic Regression to identify whether the given language is Nepali (0) or Hindi(1).\n",
    "- The Vectorizer used is TFIDF.\n",
    "- The hyperparameters are tuned using RandomizedSearchCV."
   ]
  },
  {
   "cell_type": "markdown",
   "metadata": {},
   "source": [
    "### Importing necessary libraries."
   ]
  },
  {
   "cell_type": "code",
   "execution_count": 1,
   "metadata": {},
   "outputs": [],
   "source": [
    "import os\n",
    "import pickle\n",
    "import pandas as pd\n",
    "import numpy as np\n",
    "import re"
   ]
  },
  {
   "cell_type": "code",
   "execution_count": 2,
   "metadata": {},
   "outputs": [],
   "source": [
    "os.chdir(r'C:\\Users\\acer\\Desktop\\PythonProgramming\\Nepali_Hindi Language Classification')"
   ]
  },
  {
   "cell_type": "markdown",
   "metadata": {},
   "source": [
    "### Loading the pickled files that contain cleaned texts."
   ]
  },
  {
   "cell_type": "code",
   "execution_count": 3,
   "metadata": {},
   "outputs": [],
   "source": [
    "nepali_df = pickle.load(open('nepali_sample_cleaned.pkl', 'rb'))\n",
    "hindi_df = pickle.load(open('hindi_sample_cleaned.pkl', 'rb'))\n"
   ]
  },
  {
   "cell_type": "markdown",
   "metadata": {},
   "source": [
    "### Adding labels to the dataframe as Nepali / Hindi.\n",
    "- Nepali: 0\n",
    "- Hindi: 1"
   ]
  },
  {
   "cell_type": "code",
   "execution_count": 4,
   "metadata": {},
   "outputs": [],
   "source": [
    "nepali_df['label'] = np.zeros(nepali_df.shape[0])\n",
    "hindi_df['label'] = np.ones(hindi_df.shape[0])"
   ]
  },
  {
   "cell_type": "code",
   "execution_count": 5,
   "metadata": {},
   "outputs": [],
   "source": [
    "nepali_df['label'] = nepali_df.label.astype(int)\n",
    "hindi_df['label'] = hindi_df.label.astype(int)"
   ]
  },
  {
   "cell_type": "markdown",
   "metadata": {},
   "source": [
    "### Merging the two dataframes."
   ]
  },
  {
   "cell_type": "code",
   "execution_count": 6,
   "metadata": {},
   "outputs": [],
   "source": [
    "merged_df = pd.concat([nepali_df, hindi_df], ignore_index=True)"
   ]
  },
  {
   "cell_type": "code",
   "execution_count": 7,
   "metadata": {},
   "outputs": [],
   "source": [
    "df = merged_df.copy()"
   ]
  },
  {
   "cell_type": "markdown",
   "metadata": {},
   "source": [
    "### Shuffling the dataframe rows.\n"
   ]
  },
  {
   "cell_type": "code",
   "execution_count": 8,
   "metadata": {},
   "outputs": [],
   "source": [
    "def shuffle(dataframe, random_state = 100):\n",
    "     dd = dataframe.copy()\n",
    "     dd = dd.sample(frac = 1, random_state = 100)\n",
    "     dd.reset_index(drop = True, inplace = True)\n",
    "     return dd"
   ]
  },
  {
   "cell_type": "code",
   "execution_count": 9,
   "metadata": {},
   "outputs": [
    {
     "data": {
      "text/html": [
       "<div>\n",
       "<style scoped>\n",
       "    .dataframe tbody tr th:only-of-type {\n",
       "        vertical-align: middle;\n",
       "    }\n",
       "\n",
       "    .dataframe tbody tr th {\n",
       "        vertical-align: top;\n",
       "    }\n",
       "\n",
       "    .dataframe thead th {\n",
       "        text-align: right;\n",
       "    }\n",
       "</style>\n",
       "<table border=\"1\" class=\"dataframe\">\n",
       "  <thead>\n",
       "    <tr style=\"text-align: right;\">\n",
       "      <th></th>\n",
       "      <th>0</th>\n",
       "      <th>label</th>\n",
       "    </tr>\n",
       "  </thead>\n",
       "  <tbody>\n",
       "    <tr>\n",
       "      <td>0</td>\n",
       "      <td>फ्लैशबैक</td>\n",
       "      <td>1</td>\n",
       "    </tr>\n",
       "    <tr>\n",
       "      <td>1</td>\n",
       "      <td>रंगदारी गोलीकांड पुलिस के हाथ  खाली</td>\n",
       "      <td>1</td>\n",
       "    </tr>\n",
       "    <tr>\n",
       "      <td>2</td>\n",
       "      <td>एमाले अध्यक्ष केपी ओली दोस्रो पटक प्रधानमन्त्र...</td>\n",
       "      <td>0</td>\n",
       "    </tr>\n",
       "    <tr>\n",
       "      <td>3</td>\n",
       "      <td>भूमि व्यवस्था सहकारी तथा गरिबी निवारणमन्त्री प...</td>\n",
       "      <td>0</td>\n",
       "    </tr>\n",
       "    <tr>\n",
       "      <td>4</td>\n",
       "      <td>हाम्रा जनप्रतिनिधि र सरकारी संयन्त्र कतिसम्म अ...</td>\n",
       "      <td>0</td>\n",
       "    </tr>\n",
       "    <tr>\n",
       "      <td>5</td>\n",
       "      <td>भारतीय प्रधानमन्त्री नरेन्द्र मोदीले प्रधानमन्...</td>\n",
       "      <td>0</td>\n",
       "    </tr>\n",
       "    <tr>\n",
       "      <td>6</td>\n",
       "      <td>तपाईको प्रतिक्रिया समीक्षामा भएकोले प्रकाशित भ...</td>\n",
       "      <td>0</td>\n",
       "    </tr>\n",
       "    <tr>\n",
       "      <td>7</td>\n",
       "      <td>नेपाल मजदुर किसान पार्टीका सांसद प्रेम सुवालले...</td>\n",
       "      <td>0</td>\n",
       "    </tr>\n",
       "    <tr>\n",
       "      <td>8</td>\n",
       "      <td>मजदूरों से भरा ऑटो पलटा एक मरा  जख्मी</td>\n",
       "      <td>1</td>\n",
       "    </tr>\n",
       "    <tr>\n",
       "      <td>9</td>\n",
       "      <td>आफू महाअभियोग प्रस्ताव दर्ता हुनु केही समय अगा...</td>\n",
       "      <td>0</td>\n",
       "    </tr>\n",
       "    <tr>\n",
       "      <td>10</td>\n",
       "      <td>मान्छेको अर्थतन्त्रमा सहर घुसेको झन्डै  वर्ष भ...</td>\n",
       "      <td>0</td>\n",
       "    </tr>\n",
       "    <tr>\n",
       "      <td>11</td>\n",
       "      <td>कहीं पाताल में तो कहीं फर्श पर पहुंचा पानी</td>\n",
       "      <td>1</td>\n",
       "    </tr>\n",
       "    <tr>\n",
       "      <td>12</td>\n",
       "      <td>कांग्रेस सभापति शेरबहादुर देउवा सबै पदाधिकारी ...</td>\n",
       "      <td>0</td>\n",
       "    </tr>\n",
       "    <tr>\n",
       "      <td>13</td>\n",
       "      <td>यो वेबसाइट कान्तिपुर राष्ट्रिय दैनिकको आधिकारि...</td>\n",
       "      <td>0</td>\n",
       "    </tr>\n",
       "    <tr>\n",
       "      <td>14</td>\n",
       "      <td>डंपिंग ग्राउंड की शिफ्टिंग को लेकर विधायक ने स...</td>\n",
       "      <td>1</td>\n",
       "    </tr>\n",
       "    <tr>\n",
       "      <td>15</td>\n",
       "      <td>पाक का नया पैंतरा  आईसीजे में डाली पुनर्विचार ...</td>\n",
       "      <td>1</td>\n",
       "    </tr>\n",
       "    <tr>\n",
       "      <td>16</td>\n",
       "      <td>बेटे की फीस भरने में नाकाम रहने पर की थी फायरिंग</td>\n",
       "      <td>1</td>\n",
       "    </tr>\n",
       "    <tr>\n",
       "      <td>17</td>\n",
       "      <td>वारदात स्थल पर पहुंचते ही सदमे में आई पीड़िता ...</td>\n",
       "      <td>1</td>\n",
       "    </tr>\n",
       "    <tr>\n",
       "      <td>18</td>\n",
       "      <td>हर खुशी पर जरूर करें पौधरोपण</td>\n",
       "      <td>1</td>\n",
       "    </tr>\n",
       "    <tr>\n",
       "      <td>19</td>\n",
       "      <td>तंवर ने किया सामुदायिक स्वास्थ्य केंद्र का दौरा</td>\n",
       "      <td>1</td>\n",
       "    </tr>\n",
       "  </tbody>\n",
       "</table>\n",
       "</div>"
      ],
      "text/plain": [
       "                                                    0  label\n",
       "0                                            फ्लैशबैक      1\n",
       "1                 रंगदारी गोलीकांड पुलिस के हाथ  खाली      1\n",
       "2   एमाले अध्यक्ष केपी ओली दोस्रो पटक प्रधानमन्त्र...      0\n",
       "3   भूमि व्यवस्था सहकारी तथा गरिबी निवारणमन्त्री प...      0\n",
       "4   हाम्रा जनप्रतिनिधि र सरकारी संयन्त्र कतिसम्म अ...      0\n",
       "5   भारतीय प्रधानमन्त्री नरेन्द्र मोदीले प्रधानमन्...      0\n",
       "6   तपाईको प्रतिक्रिया समीक्षामा भएकोले प्रकाशित भ...      0\n",
       "7   नेपाल मजदुर किसान पार्टीका सांसद प्रेम सुवालले...      0\n",
       "8               मजदूरों से भरा ऑटो पलटा एक मरा  जख्मी      1\n",
       "9   आफू महाअभियोग प्रस्ताव दर्ता हुनु केही समय अगा...      0\n",
       "10  मान्छेको अर्थतन्त्रमा सहर घुसेको झन्डै  वर्ष भ...      0\n",
       "11         कहीं पाताल में तो कहीं फर्श पर पहुंचा पानी      1\n",
       "12  कांग्रेस सभापति शेरबहादुर देउवा सबै पदाधिकारी ...      0\n",
       "13  यो वेबसाइट कान्तिपुर राष्ट्रिय दैनिकको आधिकारि...      0\n",
       "14  डंपिंग ग्राउंड की शिफ्टिंग को लेकर विधायक ने स...      1\n",
       "15  पाक का नया पैंतरा  आईसीजे में डाली पुनर्विचार ...      1\n",
       "16   बेटे की फीस भरने में नाकाम रहने पर की थी फायरिंग      1\n",
       "17  वारदात स्थल पर पहुंचते ही सदमे में आई पीड़िता ...      1\n",
       "18                       हर खुशी पर जरूर करें पौधरोपण      1\n",
       "19    तंवर ने किया सामुदायिक स्वास्थ्य केंद्र का दौरा      1"
      ]
     },
     "execution_count": 9,
     "metadata": {},
     "output_type": "execute_result"
    }
   ],
   "source": [
    "df = shuffle(df, 42)\n",
    "df.head(20)"
   ]
  },
  {
   "cell_type": "code",
   "execution_count": 10,
   "metadata": {},
   "outputs": [
    {
     "data": {
      "text/plain": [
       "(40000, 2)"
      ]
     },
     "execution_count": 10,
     "metadata": {},
     "output_type": "execute_result"
    }
   ],
   "source": [
    "df.shape"
   ]
  },
  {
   "cell_type": "markdown",
   "metadata": {},
   "source": [
    "### Train - Test Split."
   ]
  },
  {
   "cell_type": "code",
   "execution_count": 11,
   "metadata": {},
   "outputs": [],
   "source": [
    "from sklearn.model_selection import train_test_split, RandomizedSearchCV"
   ]
  },
  {
   "cell_type": "code",
   "execution_count": 12,
   "metadata": {},
   "outputs": [],
   "source": [
    "# Dependent and Independent Features.\n",
    "X = df.iloc[:, 0].values\n",
    "y = df.iloc[:, 1].values"
   ]
  },
  {
   "cell_type": "code",
   "execution_count": 13,
   "metadata": {},
   "outputs": [],
   "source": [
    "X_train, X_test, y_train, y_test = train_test_split(X, y, test_size = .2, random_state = 100)"
   ]
  },
  {
   "cell_type": "markdown",
   "metadata": {},
   "source": [
    "### Vectorizing the texts using TFIDF Vectorizer."
   ]
  },
  {
   "cell_type": "code",
   "execution_count": 14,
   "metadata": {},
   "outputs": [],
   "source": [
    "from sklearn.feature_extraction.text import TfidfVectorizer as TFIDF"
   ]
  },
  {
   "cell_type": "code",
   "execution_count": 15,
   "metadata": {},
   "outputs": [],
   "source": [
    "tfidf = TFIDF(ngram_range=(1,3))"
   ]
  },
  {
   "cell_type": "code",
   "execution_count": 16,
   "metadata": {},
   "outputs": [],
   "source": [
    "X_train_vectorized = tfidf.fit_transform(X_train)\n",
    "X_test_vectorized = tfidf.transform(X_test)"
   ]
  },
  {
   "cell_type": "markdown",
   "metadata": {},
   "source": [
    "### Classification using Multinomial Bayes."
   ]
  },
  {
   "cell_type": "code",
   "execution_count": 17,
   "metadata": {},
   "outputs": [],
   "source": [
    "from sklearn.naive_bayes import MultinomialNB"
   ]
  },
  {
   "cell_type": "code",
   "execution_count": 18,
   "metadata": {},
   "outputs": [],
   "source": [
    "classifier_NB = MultinomialNB()"
   ]
  },
  {
   "cell_type": "code",
   "execution_count": 19,
   "metadata": {},
   "outputs": [],
   "source": [
    "params_for_random_search = {'alpha':[.00001, .0001, .001, .01, .1, 1.0],\n",
    "                           'fit_prior': [True, False]}"
   ]
  },
  {
   "cell_type": "code",
   "execution_count": 20,
   "metadata": {},
   "outputs": [],
   "source": [
    "model = RandomizedSearchCV(estimator= classifier_NB,\n",
    "                           param_distributions= params_for_random_search,\n",
    "                           n_iter= 75,\n",
    "                           n_jobs=1,\n",
    "                           random_state=42,\n",
    "                           cv = 5,\n",
    "                           return_train_score= False\n",
    "                          )"
   ]
  },
  {
   "cell_type": "code",
   "execution_count": 21,
   "metadata": {},
   "outputs": [
    {
     "name": "stderr",
     "output_type": "stream",
     "text": [
      "C:\\Users\\acer\\PycharmProjects\\untitled\\venv\\lib\\site-packages\\sklearn\\model_selection\\_search.py:266: UserWarning: The total space of parameters 12 is smaller than n_iter=75. Running 12 iterations. For exhaustive searches, use GridSearchCV.\n",
      "  % (grid_size, self.n_iter, grid_size), UserWarning)\n"
     ]
    },
    {
     "data": {
      "text/plain": [
       "RandomizedSearchCV(cv=5, error_score='raise-deprecating',\n",
       "                   estimator=MultinomialNB(alpha=1.0, class_prior=None,\n",
       "                                           fit_prior=True),\n",
       "                   iid='warn', n_iter=75, n_jobs=1,\n",
       "                   param_distributions={'alpha': [1e-05, 0.0001, 0.001, 0.01,\n",
       "                                                  0.1, 1.0],\n",
       "                                        'fit_prior': [True, False]},\n",
       "                   pre_dispatch='2*n_jobs', random_state=42, refit=True,\n",
       "                   return_train_score=False, scoring=None, verbose=0)"
      ]
     },
     "execution_count": 21,
     "metadata": {},
     "output_type": "execute_result"
    }
   ],
   "source": [
    "model.fit(X_train_vectorized, y_train)"
   ]
  },
  {
   "cell_type": "code",
   "execution_count": 22,
   "metadata": {},
   "outputs": [
    {
     "data": {
      "text/html": [
       "<div>\n",
       "<style scoped>\n",
       "    .dataframe tbody tr th:only-of-type {\n",
       "        vertical-align: middle;\n",
       "    }\n",
       "\n",
       "    .dataframe tbody tr th {\n",
       "        vertical-align: top;\n",
       "    }\n",
       "\n",
       "    .dataframe thead th {\n",
       "        text-align: right;\n",
       "    }\n",
       "</style>\n",
       "<table border=\"1\" class=\"dataframe\">\n",
       "  <thead>\n",
       "    <tr style=\"text-align: right;\">\n",
       "      <th></th>\n",
       "      <th>mean_fit_time</th>\n",
       "      <th>std_fit_time</th>\n",
       "      <th>mean_score_time</th>\n",
       "      <th>std_score_time</th>\n",
       "      <th>param_fit_prior</th>\n",
       "      <th>param_alpha</th>\n",
       "      <th>params</th>\n",
       "      <th>split0_test_score</th>\n",
       "      <th>split1_test_score</th>\n",
       "      <th>split2_test_score</th>\n",
       "      <th>split3_test_score</th>\n",
       "      <th>split4_test_score</th>\n",
       "      <th>mean_test_score</th>\n",
       "      <th>std_test_score</th>\n",
       "      <th>rank_test_score</th>\n",
       "    </tr>\n",
       "  </thead>\n",
       "  <tbody>\n",
       "    <tr>\n",
       "      <td>0</td>\n",
       "      <td>0.085780</td>\n",
       "      <td>0.013989</td>\n",
       "      <td>0.015797</td>\n",
       "      <td>0.003059</td>\n",
       "      <td>True</td>\n",
       "      <td>1e-05</td>\n",
       "      <td>{'fit_prior': True, 'alpha': 1e-05}</td>\n",
       "      <td>0.956726</td>\n",
       "      <td>0.957344</td>\n",
       "      <td>0.954844</td>\n",
       "      <td>0.956406</td>\n",
       "      <td>0.955774</td>\n",
       "      <td>0.956219</td>\n",
       "      <td>0.000854</td>\n",
       "      <td>10</td>\n",
       "    </tr>\n",
       "    <tr>\n",
       "      <td>1</td>\n",
       "      <td>0.066986</td>\n",
       "      <td>0.001789</td>\n",
       "      <td>0.012395</td>\n",
       "      <td>0.000489</td>\n",
       "      <td>False</td>\n",
       "      <td>1e-05</td>\n",
       "      <td>{'fit_prior': False, 'alpha': 1e-05}</td>\n",
       "      <td>0.956726</td>\n",
       "      <td>0.957344</td>\n",
       "      <td>0.954844</td>\n",
       "      <td>0.956406</td>\n",
       "      <td>0.955931</td>\n",
       "      <td>0.956250</td>\n",
       "      <td>0.000840</td>\n",
       "      <td>9</td>\n",
       "    </tr>\n",
       "    <tr>\n",
       "      <td>2</td>\n",
       "      <td>0.080182</td>\n",
       "      <td>0.008399</td>\n",
       "      <td>0.017197</td>\n",
       "      <td>0.004353</td>\n",
       "      <td>True</td>\n",
       "      <td>0.0001</td>\n",
       "      <td>{'fit_prior': True, 'alpha': 0.0001}</td>\n",
       "      <td>0.962506</td>\n",
       "      <td>0.960938</td>\n",
       "      <td>0.959844</td>\n",
       "      <td>0.961562</td>\n",
       "      <td>0.961400</td>\n",
       "      <td>0.961250</td>\n",
       "      <td>0.000869</td>\n",
       "      <td>8</td>\n",
       "    </tr>\n",
       "    <tr>\n",
       "      <td>3</td>\n",
       "      <td>0.068984</td>\n",
       "      <td>0.002097</td>\n",
       "      <td>0.013597</td>\n",
       "      <td>0.000801</td>\n",
       "      <td>False</td>\n",
       "      <td>0.0001</td>\n",
       "      <td>{'fit_prior': False, 'alpha': 0.0001}</td>\n",
       "      <td>0.962506</td>\n",
       "      <td>0.960938</td>\n",
       "      <td>0.959844</td>\n",
       "      <td>0.961562</td>\n",
       "      <td>0.961556</td>\n",
       "      <td>0.961281</td>\n",
       "      <td>0.000876</td>\n",
       "      <td>7</td>\n",
       "    </tr>\n",
       "    <tr>\n",
       "      <td>4</td>\n",
       "      <td>0.069577</td>\n",
       "      <td>0.000788</td>\n",
       "      <td>0.013196</td>\n",
       "      <td>0.000400</td>\n",
       "      <td>True</td>\n",
       "      <td>0.001</td>\n",
       "      <td>{'fit_prior': True, 'alpha': 0.001}</td>\n",
       "      <td>0.968599</td>\n",
       "      <td>0.966719</td>\n",
       "      <td>0.966250</td>\n",
       "      <td>0.967656</td>\n",
       "      <td>0.969839</td>\n",
       "      <td>0.967812</td>\n",
       "      <td>0.001295</td>\n",
       "      <td>4</td>\n",
       "    </tr>\n",
       "    <tr>\n",
       "      <td>5</td>\n",
       "      <td>0.068583</td>\n",
       "      <td>0.003498</td>\n",
       "      <td>0.012999</td>\n",
       "      <td>0.001549</td>\n",
       "      <td>False</td>\n",
       "      <td>0.001</td>\n",
       "      <td>{'fit_prior': False, 'alpha': 0.001}</td>\n",
       "      <td>0.968755</td>\n",
       "      <td>0.966719</td>\n",
       "      <td>0.966406</td>\n",
       "      <td>0.967656</td>\n",
       "      <td>0.969839</td>\n",
       "      <td>0.967875</td>\n",
       "      <td>0.001279</td>\n",
       "      <td>3</td>\n",
       "    </tr>\n",
       "    <tr>\n",
       "      <td>6</td>\n",
       "      <td>0.067984</td>\n",
       "      <td>0.002190</td>\n",
       "      <td>0.012399</td>\n",
       "      <td>0.000489</td>\n",
       "      <td>True</td>\n",
       "      <td>0.01</td>\n",
       "      <td>{'fit_prior': True, 'alpha': 0.01}</td>\n",
       "      <td>0.972036</td>\n",
       "      <td>0.970625</td>\n",
       "      <td>0.968906</td>\n",
       "      <td>0.968437</td>\n",
       "      <td>0.972027</td>\n",
       "      <td>0.970406</td>\n",
       "      <td>0.001514</td>\n",
       "      <td>2</td>\n",
       "    </tr>\n",
       "    <tr>\n",
       "      <td>7</td>\n",
       "      <td>0.071184</td>\n",
       "      <td>0.001938</td>\n",
       "      <td>0.013397</td>\n",
       "      <td>0.000802</td>\n",
       "      <td>False</td>\n",
       "      <td>0.01</td>\n",
       "      <td>{'fit_prior': False, 'alpha': 0.01}</td>\n",
       "      <td>0.972192</td>\n",
       "      <td>0.970938</td>\n",
       "      <td>0.968906</td>\n",
       "      <td>0.968437</td>\n",
       "      <td>0.972339</td>\n",
       "      <td>0.970562</td>\n",
       "      <td>0.001626</td>\n",
       "      <td>1</td>\n",
       "    </tr>\n",
       "    <tr>\n",
       "      <td>8</td>\n",
       "      <td>0.069585</td>\n",
       "      <td>0.000490</td>\n",
       "      <td>0.011996</td>\n",
       "      <td>0.000632</td>\n",
       "      <td>True</td>\n",
       "      <td>0.1</td>\n",
       "      <td>{'fit_prior': True, 'alpha': 0.1}</td>\n",
       "      <td>0.965787</td>\n",
       "      <td>0.963750</td>\n",
       "      <td>0.961406</td>\n",
       "      <td>0.961875</td>\n",
       "      <td>0.964526</td>\n",
       "      <td>0.963469</td>\n",
       "      <td>0.001635</td>\n",
       "      <td>5</td>\n",
       "    </tr>\n",
       "    <tr>\n",
       "      <td>9</td>\n",
       "      <td>0.068585</td>\n",
       "      <td>0.000490</td>\n",
       "      <td>0.013196</td>\n",
       "      <td>0.000400</td>\n",
       "      <td>False</td>\n",
       "      <td>0.1</td>\n",
       "      <td>{'fit_prior': False, 'alpha': 0.1}</td>\n",
       "      <td>0.965630</td>\n",
       "      <td>0.963750</td>\n",
       "      <td>0.961406</td>\n",
       "      <td>0.962187</td>\n",
       "      <td>0.964057</td>\n",
       "      <td>0.963406</td>\n",
       "      <td>0.001482</td>\n",
       "      <td>6</td>\n",
       "    </tr>\n",
       "    <tr>\n",
       "      <td>10</td>\n",
       "      <td>0.068784</td>\n",
       "      <td>0.005305</td>\n",
       "      <td>0.012403</td>\n",
       "      <td>0.000497</td>\n",
       "      <td>True</td>\n",
       "      <td>1</td>\n",
       "      <td>{'fit_prior': True, 'alpha': 1.0}</td>\n",
       "      <td>0.949227</td>\n",
       "      <td>0.950781</td>\n",
       "      <td>0.948906</td>\n",
       "      <td>0.948594</td>\n",
       "      <td>0.949055</td>\n",
       "      <td>0.949313</td>\n",
       "      <td>0.000763</td>\n",
       "      <td>12</td>\n",
       "    </tr>\n",
       "    <tr>\n",
       "      <td>11</td>\n",
       "      <td>0.068575</td>\n",
       "      <td>0.001015</td>\n",
       "      <td>0.013197</td>\n",
       "      <td>0.000747</td>\n",
       "      <td>False</td>\n",
       "      <td>1</td>\n",
       "      <td>{'fit_prior': False, 'alpha': 1.0}</td>\n",
       "      <td>0.949383</td>\n",
       "      <td>0.951250</td>\n",
       "      <td>0.949219</td>\n",
       "      <td>0.948594</td>\n",
       "      <td>0.949367</td>\n",
       "      <td>0.949562</td>\n",
       "      <td>0.000892</td>\n",
       "      <td>11</td>\n",
       "    </tr>\n",
       "  </tbody>\n",
       "</table>\n",
       "</div>"
      ],
      "text/plain": [
       "    mean_fit_time  std_fit_time  mean_score_time  std_score_time  \\\n",
       "0        0.085780      0.013989         0.015797        0.003059   \n",
       "1        0.066986      0.001789         0.012395        0.000489   \n",
       "2        0.080182      0.008399         0.017197        0.004353   \n",
       "3        0.068984      0.002097         0.013597        0.000801   \n",
       "4        0.069577      0.000788         0.013196        0.000400   \n",
       "5        0.068583      0.003498         0.012999        0.001549   \n",
       "6        0.067984      0.002190         0.012399        0.000489   \n",
       "7        0.071184      0.001938         0.013397        0.000802   \n",
       "8        0.069585      0.000490         0.011996        0.000632   \n",
       "9        0.068585      0.000490         0.013196        0.000400   \n",
       "10       0.068784      0.005305         0.012403        0.000497   \n",
       "11       0.068575      0.001015         0.013197        0.000747   \n",
       "\n",
       "   param_fit_prior param_alpha                                 params  \\\n",
       "0             True       1e-05    {'fit_prior': True, 'alpha': 1e-05}   \n",
       "1            False       1e-05   {'fit_prior': False, 'alpha': 1e-05}   \n",
       "2             True      0.0001   {'fit_prior': True, 'alpha': 0.0001}   \n",
       "3            False      0.0001  {'fit_prior': False, 'alpha': 0.0001}   \n",
       "4             True       0.001    {'fit_prior': True, 'alpha': 0.001}   \n",
       "5            False       0.001   {'fit_prior': False, 'alpha': 0.001}   \n",
       "6             True        0.01     {'fit_prior': True, 'alpha': 0.01}   \n",
       "7            False        0.01    {'fit_prior': False, 'alpha': 0.01}   \n",
       "8             True         0.1      {'fit_prior': True, 'alpha': 0.1}   \n",
       "9            False         0.1     {'fit_prior': False, 'alpha': 0.1}   \n",
       "10            True           1      {'fit_prior': True, 'alpha': 1.0}   \n",
       "11           False           1     {'fit_prior': False, 'alpha': 1.0}   \n",
       "\n",
       "    split0_test_score  split1_test_score  split2_test_score  \\\n",
       "0            0.956726           0.957344           0.954844   \n",
       "1            0.956726           0.957344           0.954844   \n",
       "2            0.962506           0.960938           0.959844   \n",
       "3            0.962506           0.960938           0.959844   \n",
       "4            0.968599           0.966719           0.966250   \n",
       "5            0.968755           0.966719           0.966406   \n",
       "6            0.972036           0.970625           0.968906   \n",
       "7            0.972192           0.970938           0.968906   \n",
       "8            0.965787           0.963750           0.961406   \n",
       "9            0.965630           0.963750           0.961406   \n",
       "10           0.949227           0.950781           0.948906   \n",
       "11           0.949383           0.951250           0.949219   \n",
       "\n",
       "    split3_test_score  split4_test_score  mean_test_score  std_test_score  \\\n",
       "0            0.956406           0.955774         0.956219        0.000854   \n",
       "1            0.956406           0.955931         0.956250        0.000840   \n",
       "2            0.961562           0.961400         0.961250        0.000869   \n",
       "3            0.961562           0.961556         0.961281        0.000876   \n",
       "4            0.967656           0.969839         0.967812        0.001295   \n",
       "5            0.967656           0.969839         0.967875        0.001279   \n",
       "6            0.968437           0.972027         0.970406        0.001514   \n",
       "7            0.968437           0.972339         0.970562        0.001626   \n",
       "8            0.961875           0.964526         0.963469        0.001635   \n",
       "9            0.962187           0.964057         0.963406        0.001482   \n",
       "10           0.948594           0.949055         0.949313        0.000763   \n",
       "11           0.948594           0.949367         0.949562        0.000892   \n",
       "\n",
       "    rank_test_score  \n",
       "0                10  \n",
       "1                 9  \n",
       "2                 8  \n",
       "3                 7  \n",
       "4                 4  \n",
       "5                 3  \n",
       "6                 2  \n",
       "7                 1  \n",
       "8                 5  \n",
       "9                 6  \n",
       "10               12  \n",
       "11               11  "
      ]
     },
     "execution_count": 22,
     "metadata": {},
     "output_type": "execute_result"
    }
   ],
   "source": [
    "results_NB = pd.DataFrame(model.cv_results_)\n",
    "results_NB"
   ]
  },
  {
   "cell_type": "code",
   "execution_count": 23,
   "metadata": {},
   "outputs": [
    {
     "name": "stdout",
     "output_type": "stream",
     "text": [
      "{'fit_prior': False, 'alpha': 0.01}\n"
     ]
    }
   ],
   "source": [
    "print(model.best_params_)"
   ]
  },
  {
   "cell_type": "code",
   "execution_count": 24,
   "metadata": {},
   "outputs": [
    {
     "name": "stdout",
     "output_type": "stream",
     "text": [
      "0.9705625\n"
     ]
    }
   ],
   "source": [
    "print(model.best_score_)"
   ]
  },
  {
   "cell_type": "code",
   "execution_count": 25,
   "metadata": {},
   "outputs": [
    {
     "name": "stdout",
     "output_type": "stream",
     "text": [
      "7\n"
     ]
    }
   ],
   "source": [
    "print(model.best_index_)    \n",
    "# The index (of the cv_results_ arrays) which corresponds to the best candidate parameter setting."
   ]
  },
  {
   "cell_type": "code",
   "execution_count": 26,
   "metadata": {},
   "outputs": [
    {
     "data": {
      "text/plain": [
       "MultinomialNB(alpha=0.01, class_prior=None, fit_prior=False)"
      ]
     },
     "execution_count": 26,
     "metadata": {},
     "output_type": "execute_result"
    }
   ],
   "source": [
    "model.best_estimator_"
   ]
  },
  {
   "cell_type": "markdown",
   "metadata": {},
   "source": [
    "### Selecting the best estimator."
   ]
  },
  {
   "cell_type": "code",
   "execution_count": 27,
   "metadata": {},
   "outputs": [
    {
     "data": {
      "text/plain": [
       "MultinomialNB(alpha=0.01, class_prior=None, fit_prior=False)"
      ]
     },
     "execution_count": 27,
     "metadata": {},
     "output_type": "execute_result"
    }
   ],
   "source": [
    "classifier_new = model.best_estimator_\n",
    "classifier_new.fit(X_train_vectorized, y_train)"
   ]
  },
  {
   "cell_type": "code",
   "execution_count": 28,
   "metadata": {},
   "outputs": [],
   "source": [
    "predictions = classifier_new.predict(X_test_vectorized)"
   ]
  },
  {
   "cell_type": "markdown",
   "metadata": {},
   "source": [
    "### Confusion Matrix:"
   ]
  },
  {
   "cell_type": "code",
   "execution_count": 29,
   "metadata": {},
   "outputs": [],
   "source": [
    "from sklearn import metrics\n",
    "import itertools\n",
    "import matplotlib.pyplot as plt"
   ]
  },
  {
   "cell_type": "code",
   "execution_count": 30,
   "metadata": {},
   "outputs": [],
   "source": [
    "def plot_confusion_matrix(cm, classes,\n",
    "                          normalize=False,\n",
    "                          title='Confusion matrix',\n",
    "                          cmap=plt.cm.Blues):\n",
    "    \"\"\"\n",
    "    See full source and example: \n",
    "    http://scikit-learn.org/stable/auto_examples/model_selection/plot_confusion_matrix.html\n",
    "    \n",
    "    This function prints and plots the confusion matrix.\n",
    "    Normalization can be applied by setting `normalize=True`.\n",
    "    \"\"\"\n",
    "    plt.imshow(cm, interpolation='nearest', cmap=cmap)\n",
    "    plt.title(title)\n",
    "    plt.colorbar()\n",
    "    tick_marks = np.arange(len(classes))\n",
    "    plt.xticks(tick_marks, classes, rotation=45)\n",
    "    plt.yticks(tick_marks, classes)\n",
    "\n",
    "    if normalize:\n",
    "        cm = cm.astype('float') / cm.sum(axis=1)[:, np.newaxis]\n",
    "        print(\"Normalized confusion matrix\")\n",
    "    else:\n",
    "        print('Confusion matrix, without normalization')\n",
    "\n",
    "    thresh = cm.max() / 2.\n",
    "    for i, j in itertools.product(range(cm.shape[0]), range(cm.shape[1])):\n",
    "        plt.text(j, i, cm[i, j],\n",
    "                 horizontalalignment=\"center\",\n",
    "                 color=\"white\" if cm[i, j] > thresh else \"black\")\n",
    "\n",
    "    plt.tight_layout()\n",
    "    plt.ylabel('True label')\n",
    "    plt.xlabel('Predicted label')"
   ]
  },
  {
   "cell_type": "code",
   "execution_count": 31,
   "metadata": {},
   "outputs": [
    {
     "name": "stdout",
     "output_type": "stream",
     "text": [
      "Confusion matrix, without normalization\n"
     ]
    },
    {
     "data": {
      "image/png": "[encoded data removed]",
      "text/plain": [
       "<Figure size 432x288 with 2 Axes>"
      ]
     },
     "metadata": {
      "needs_background": "light"
     },
     "output_type": "display_data"
    }
   ],
   "source": [
    "cm = metrics.confusion_matrix(y_test, predictions)\n",
    "plot_confusion_matrix(cm, classes=['Nepali', 'Hindi'])"
   ]
  },
  {
   "cell_type": "markdown",
   "metadata": {},
   "source": [
    "### Model Performance:"
   ]
  },
  {
   "cell_type": "code",
   "execution_count": 32,
   "metadata": {},
   "outputs": [],
   "source": [
    "def accuracy_check(print_values = True):\n",
    "    if print_values == True:\n",
    "        print('Accuracy (in %) = ',round(float(metrics.accuracy_score(y_test, predictions) ) *100, 2), '%')\n",
    "        print('ROC - AUC Score (in %) = ',round(float(metrics.roc_auc_score(y_test, predictions) ) *100, 2), '%')\n",
    "        print('F1 - Score (in %) = ',round(float(metrics.f1_score(y_test, predictions) ) *100, 2), '%')\n",
    "\n",
    "    '''acc_dict = dict()\n",
    "    acc_dict['Accuracy Score'] = metrics.accuracy_score(y_test, predictions\n",
    "    acc_dict['ROC - AUC Score'] = metrics.roc_auc_score(y_test, predictions)\n",
    "    acc_dict['F1 - Score'] = metrics.f1_score(y_test, predictions) '''   \n",
    "    return (round(float(metrics.accuracy_score(y_test, predictions) ) *100, 2),\n",
    "            round(float(metrics.roc_auc_score(y_test, predictions) ) *100, 2),\n",
    "            round(float(metrics.f1_score(y_test, predictions) ) *100, 2)\n",
    "           )"
   ]
  },
  {
   "cell_type": "code",
   "execution_count": 33,
   "metadata": {},
   "outputs": [
    {
     "name": "stdout",
     "output_type": "stream",
     "text": [
      "Accuracy (in %) =  96.11 %\n",
      "ROC - AUC Score (in %) =  96.16 %\n",
      "F1 - Score (in %) =  96.01 %\n"
     ]
    },
    {
     "data": {
      "text/plain": [
       "(96.11, 96.16, 96.01)"
      ]
     },
     "execution_count": 33,
     "metadata": {},
     "output_type": "execute_result"
    }
   ],
   "source": [
    "accuracy_check()"
   ]
  },
  {
   "cell_type": "markdown",
   "metadata": {},
   "source": [
    "##### The results are fairly accurate using Naive bayes Model. Let's see if we can improve the performance using Random Forest and Logistic Regression."
   ]
  },
  {
   "cell_type": "markdown",
   "metadata": {},
   "source": [
    "<hr><hr>"
   ]
  },
  {
   "cell_type": "markdown",
   "metadata": {},
   "source": [
    "## Classification using Random Forest."
   ]
  },
  {
   "cell_type": "code",
   "execution_count": 34,
   "metadata": {},
   "outputs": [],
   "source": [
    "from sklearn.ensemble import RandomForestClassifier"
   ]
  },
  {
   "cell_type": "code",
   "execution_count": 35,
   "metadata": {},
   "outputs": [],
   "source": [
    "classifier_RF = RandomForestClassifier()"
   ]
  },
  {
   "cell_type": "code",
   "execution_count": 36,
   "metadata": {},
   "outputs": [],
   "source": [
    "parameters = {'n_estimators': [4, 6, 9], \n",
    "              'max_features': ['log2', 'sqrt','auto'], \n",
    "              'criterion': ['entropy', 'gini'],\n",
    "              'max_depth': [2, 3, 5, 10], \n",
    "              'min_samples_split': [2, 3, 5],\n",
    "              'min_samples_leaf': [1,5,8]\n",
    "             }"
   ]
  },
  {
   "cell_type": "code",
   "execution_count": 37,
   "metadata": {},
   "outputs": [],
   "source": [
    "model1 = RandomizedSearchCV(estimator= classifier_RF,\n",
    "                           param_distributions= parameters,\n",
    "                           n_iter= 75,\n",
    "                           n_jobs=1,\n",
    "                           random_state=42,\n",
    "                           cv = 5,\n",
    "                           return_train_score= False\n",
    "                          )"
   ]
  },
  {
   "cell_type": "code",
   "execution_count": 38,
   "metadata": {},
   "outputs": [
    {
     "data": {
      "text/plain": [
       "RandomizedSearchCV(cv=5, error_score='raise-deprecating',\n",
       "                   estimator=RandomForestClassifier(bootstrap=True,\n",
       "                                                    class_weight=None,\n",
       "                                                    criterion='gini',\n",
       "                                                    max_depth=None,\n",
       "                                                    max_features='auto',\n",
       "                                                    max_leaf_nodes=None,\n",
       "                                                    min_impurity_decrease=0.0,\n",
       "                                                    min_impurity_split=None,\n",
       "                                                    min_samples_leaf=1,\n",
       "                                                    min_samples_split=2,\n",
       "                                                    min_weight_fraction_leaf=0.0,\n",
       "                                                    n_estimators='warn',\n",
       "                                                    n_jobs=None,\n",
       "                                                    oob_sc...\n",
       "                                                    random_state=None,\n",
       "                                                    verbose=0,\n",
       "                                                    warm_start=False),\n",
       "                   iid='warn', n_iter=75, n_jobs=1,\n",
       "                   param_distributions={'criterion': ['entropy', 'gini'],\n",
       "                                        'max_depth': [2, 3, 5, 10],\n",
       "                                        'max_features': ['log2', 'sqrt',\n",
       "                                                         'auto'],\n",
       "                                        'min_samples_leaf': [1, 5, 8],\n",
       "                                        'min_samples_split': [2, 3, 5],\n",
       "                                        'n_estimators': [4, 6, 9]},\n",
       "                   pre_dispatch='2*n_jobs', random_state=42, refit=True,\n",
       "                   return_train_score=False, scoring=None, verbose=0)"
      ]
     },
     "execution_count": 38,
     "metadata": {},
     "output_type": "execute_result"
    }
   ],
   "source": [
    "model1.fit(X_train_vectorized, y_train)"
   ]
  },
  {
   "cell_type": "markdown",
   "metadata": {},
   "source": [
    "### Fitting into the best model."
   ]
  },
  {
   "cell_type": "code",
   "execution_count": 39,
   "metadata": {},
   "outputs": [
    {
     "data": {
      "text/plain": [
       "RandomForestClassifier(bootstrap=True, class_weight=None, criterion='gini',\n",
       "                       max_depth=10, max_features='auto', max_leaf_nodes=None,\n",
       "                       min_impurity_decrease=0.0, min_impurity_split=None,\n",
       "                       min_samples_leaf=8, min_samples_split=3,\n",
       "                       min_weight_fraction_leaf=0.0, n_estimators=6,\n",
       "                       n_jobs=None, oob_score=False, random_state=None,\n",
       "                       verbose=0, warm_start=False)"
      ]
     },
     "execution_count": 39,
     "metadata": {},
     "output_type": "execute_result"
    }
   ],
   "source": [
    "classifier_new = model1.best_estimator_\n",
    "classifier_new.fit(X_train_vectorized, y_train)"
   ]
  },
  {
   "cell_type": "code",
   "execution_count": 40,
   "metadata": {},
   "outputs": [],
   "source": [
    "predictions = classifier_new.predict(X_test_vectorized)"
   ]
  },
  {
   "cell_type": "markdown",
   "metadata": {},
   "source": [
    "### Confusion Matrix."
   ]
  },
  {
   "cell_type": "code",
   "execution_count": 41,
   "metadata": {},
   "outputs": [
    {
     "name": "stdout",
     "output_type": "stream",
     "text": [
      "Confusion matrix, without normalization\n"
     ]
    },
    {
     "data": {
      "image/png": "[encoded data removed]",
      "text/plain": [
       "<Figure size 432x288 with 2 Axes>"
      ]
     },
     "metadata": {
      "needs_background": "light"
     },
     "output_type": "display_data"
    }
   ],
   "source": [
    "cm = metrics.confusion_matrix(y_test, predictions)\n",
    "plot_confusion_matrix(cm, classes=['Nepali', 'Hindi'])"
   ]
  },
  {
   "cell_type": "markdown",
   "metadata": {},
   "source": [
    "### Model Performance:"
   ]
  },
  {
   "cell_type": "code",
   "execution_count": 42,
   "metadata": {},
   "outputs": [
    {
     "name": "stdout",
     "output_type": "stream",
     "text": [
      "Accuracy (in %) =  82.34 %\n",
      "ROC - AUC Score (in %) =  82.13 %\n",
      "F1 - Score (in %) =  84.9 %\n"
     ]
    },
    {
     "data": {
      "text/plain": [
       "(82.34, 82.13, 84.9)"
      ]
     },
     "execution_count": 42,
     "metadata": {},
     "output_type": "execute_result"
    }
   ],
   "source": [
    "accuracy_check()"
   ]
  },
  {
   "cell_type": "markdown",
   "metadata": {},
   "source": [
    "#### Random Forest Classifier doesn't do well compared to Naive Bayes Classifier."
   ]
  },
  {
   "cell_type": "markdown",
   "metadata": {},
   "source": [
    "<hr><hr>"
   ]
  },
  {
   "cell_type": "markdown",
   "metadata": {},
   "source": [
    "# Classification using Logistic Regression."
   ]
  },
  {
   "cell_type": "code",
   "execution_count": 43,
   "metadata": {},
   "outputs": [],
   "source": [
    "from sklearn.linear_model import LogisticRegression"
   ]
  },
  {
   "cell_type": "code",
   "execution_count": 44,
   "metadata": {},
   "outputs": [],
   "source": [
    "classifier_LR = LogisticRegression()"
   ]
  },
  {
   "cell_type": "code",
   "execution_count": 45,
   "metadata": {},
   "outputs": [],
   "source": [
    "parameters_for_logistic_regession = {'C': [1/100, 1/10, 1, 10, 100], 'fit_intercept': [True, False]}"
   ]
  },
  {
   "cell_type": "code",
   "execution_count": 46,
   "metadata": {},
   "outputs": [],
   "source": [
    "model2 = RandomizedSearchCV(estimator= classifier_LR,\n",
    "                           param_distributions= parameters_for_logistic_regession,\n",
    "                           n_iter= 75,\n",
    "                           n_jobs=1,\n",
    "                           random_state=42,\n",
    "                           cv = 5,\n",
    "                           return_train_score= False\n",
    "                          )"
   ]
  },
  {
   "cell_type": "code",
   "execution_count": 47,
   "metadata": {},
   "outputs": [
    {
     "name": "stderr",
     "output_type": "stream",
     "text": [
      "C:\\Users\\acer\\PycharmProjects\\untitled\\venv\\lib\\site-packages\\sklearn\\model_selection\\_search.py:266: UserWarning: The total space of parameters 10 is smaller than n_iter=75. Running 10 iterations. For exhaustive searches, use GridSearchCV.\n",
      "  % (grid_size, self.n_iter, grid_size), UserWarning)\n",
      "C:\\Users\\acer\\PycharmProjects\\untitled\\venv\\lib\\site-packages\\sklearn\\linear_model\\logistic.py:432: FutureWarning: Default solver will be changed to 'lbfgs' in 0.22. Specify a solver to silence this warning.\n",
      "  FutureWarning)\n"
     ]
    },
    {
     "data": {
      "text/plain": [
       "RandomizedSearchCV(cv=5, error_score='raise-deprecating',\n",
       "                   estimator=LogisticRegression(C=1.0, class_weight=None,\n",
       "                                                dual=False, fit_intercept=True,\n",
       "                                                intercept_scaling=1,\n",
       "                                                l1_ratio=None, max_iter=100,\n",
       "                                                multi_class='warn', n_jobs=None,\n",
       "                                                penalty='l2', random_state=None,\n",
       "                                                solver='warn', tol=0.0001,\n",
       "                                                verbose=0, warm_start=False),\n",
       "                   iid='warn', n_iter=75, n_jobs=1,\n",
       "                   param_distributions={'C': [0.01, 0.1, 1, 10, 100],\n",
       "                                        'fit_intercept': [True, False]},\n",
       "                   pre_dispatch='2*n_jobs', random_state=42, refit=True,\n",
       "                   return_train_score=False, scoring=None, verbose=0)"
      ]
     },
     "execution_count": 47,
     "metadata": {},
     "output_type": "execute_result"
    }
   ],
   "source": [
    "model2.fit(X_train_vectorized, y_train)"
   ]
  },
  {
   "cell_type": "markdown",
   "metadata": {},
   "source": [
    "### Fitting into the best model."
   ]
  },
  {
   "cell_type": "code",
   "execution_count": 49,
   "metadata": {},
   "outputs": [
    {
     "data": {
      "text/plain": [
       "LogisticRegression(C=100, class_weight=None, dual=False, fit_intercept=True,\n",
       "                   intercept_scaling=1, l1_ratio=None, max_iter=100,\n",
       "                   multi_class='warn', n_jobs=None, penalty='l2',\n",
       "                   random_state=None, solver='warn', tol=0.0001, verbose=0,\n",
       "                   warm_start=False)"
      ]
     },
     "execution_count": 49,
     "metadata": {},
     "output_type": "execute_result"
    }
   ],
   "source": [
    "classifier_new = model2.best_estimator_\n",
    "classifier_new.fit(X_train_vectorized, y_train)"
   ]
  },
  {
   "cell_type": "code",
   "execution_count": 50,
   "metadata": {},
   "outputs": [],
   "source": [
    "predictions = classifier_new.predict(X_test_vectorized)"
   ]
  },
  {
   "cell_type": "markdown",
   "metadata": {},
   "source": [
    "### Confusion Matrix."
   ]
  },
  {
   "cell_type": "code",
   "execution_count": 51,
   "metadata": {},
   "outputs": [
    {
     "name": "stdout",
     "output_type": "stream",
     "text": [
      "Confusion matrix, without normalization\n"
     ]
    },
    {
     "data": {
      "image/png": "[encoded data removed]",
      "text/plain": [
       "<Figure size 432x288 with 2 Axes>"
      ]
     },
     "metadata": {
      "needs_background": "light"
     },
     "output_type": "display_data"
    }
   ],
   "source": [
    "cm = metrics.confusion_matrix(y_test, predictions)\n",
    "plot_confusion_matrix(cm, classes=['Nepali', 'Hindi'])"
   ]
  },
  {
   "cell_type": "markdown",
   "metadata": {},
   "source": [
    "### Model Performance:"
   ]
  },
  {
   "cell_type": "code",
   "execution_count": 52,
   "metadata": {},
   "outputs": [
    {
     "name": "stdout",
     "output_type": "stream",
     "text": [
      "Accuracy (in %) =  99.55 %\n",
      "ROC - AUC Score (in %) =  99.56 %\n",
      "F1 - Score (in %) =  99.55 %\n"
     ]
    },
    {
     "data": {
      "text/plain": [
       "(99.55, 99.56, 99.55)"
      ]
     },
     "execution_count": 52,
     "metadata": {},
     "output_type": "execute_result"
    }
   ],
   "source": [
    "accuracy_check()"
   ]
  },
  {
   "cell_type": "markdown",
   "metadata": {},
   "source": [
    "##### Hence, the best classifier is the Logistic Regression with C = 100."
   ]
  },
  {
   "cell_type": "markdown",
   "metadata": {},
   "source": [
    "<hr><hr>"
   ]
  },
  {
   "cell_type": "markdown",
   "metadata": {},
   "source": [
    "## Testing with external TEXT."
   ]
  },
  {
   "cell_type": "code",
   "execution_count": 53,
   "metadata": {},
   "outputs": [],
   "source": [
    "test_nepali =['क्तपुरको मध्यपुरथिमी नगरपालिका १ का वडाध्यक्ष सुरज खड्का लकडाउनका बेला पनि बिहान सबेरै घरबाट निस्किन्छन् र साँझ अबेरमात्रै फर्किन्छन्\\\n",
    "सरकारी संरचनाको सबैभन्दा तल्लो निकाय वडा कार्यालयको प्रमुख भएका नाताले अहिल उनको व्यस्तता बढेको छ']"
   ]
  },
  {
   "cell_type": "code",
   "execution_count": 54,
   "metadata": {},
   "outputs": [
    {
     "data": {
      "text/plain": [
       "array([0])"
      ]
     },
     "execution_count": 54,
     "metadata": {},
     "output_type": "execute_result"
    }
   ],
   "source": [
    "classifier_new.predict(tfidf.transform(test_nepali))"
   ]
  },
  {
   "cell_type": "code",
   "execution_count": 55,
   "metadata": {},
   "outputs": [],
   "source": [
    "test_hindi = ['संदिग्ध हालत में युवती लापता अज्ञात पर अगवा करने का केस दर्ज']"
   ]
  },
  {
   "cell_type": "code",
   "execution_count": 56,
   "metadata": {},
   "outputs": [
    {
     "data": {
      "text/plain": [
       "array([1])"
      ]
     },
     "execution_count": 56,
     "metadata": {},
     "output_type": "execute_result"
    }
   ],
   "source": [
    "classifier_new.predict(tfidf.transform(test_hindi))"
   ]
  },
  {
   "cell_type": "markdown",
   "metadata": {},
   "source": [
    "<hr><hr>"
   ]
  },
  {
   "cell_type": "markdown",
   "metadata": {},
   "source": [
    "### Pickling the finalized optimum model into disk.¶"
   ]
  },
  {
   "cell_type": "code",
   "execution_count": 57,
   "metadata": {},
   "outputs": [],
   "source": [
    "pickle.dump(classifier_new, open('Logistic_regression_model.sav', 'wb'))"
   ]
  },
  {
   "cell_type": "markdown",
   "metadata": {},
   "source": [
    "<hr>"
   ]
  },
  {
   "cell_type": "markdown",
   "metadata": {},
   "source": [
    "# The End."
   ]
  }
 ],
 "metadata": {
  "kernelspec": {
   "display_name": "Python 3",
   "language": "python",
   "name": "python3"
  },
  "language_info": {
   "codemirror_mode": {
    "name": "ipython",
    "version": 3
   },
   "file_extension": ".py",
   "mimetype": "text/x-python",
   "name": "python",
   "nbconvert_exporter": "python",
   "pygments_lexer": "ipython3",
   "version": "3.7.2"
  }
 },
 "nbformat": 4,
 "nbformat_minor": 2
}
