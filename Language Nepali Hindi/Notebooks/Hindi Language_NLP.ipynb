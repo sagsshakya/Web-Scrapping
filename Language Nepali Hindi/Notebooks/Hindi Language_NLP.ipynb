{
 "cells": [
  {
   "cell_type": "markdown",
   "metadata": {},
   "source": [
    "# Hindi Language_NLP.\n",
    "- Prepared by: <a href = 'https://github.com/sagsshakya'> Sagun Shakya </a>\n",
    "- MSc. Data Science\n",
    "- GITAM Institute of Science, Visakhapatnam.\n",
    "- Email: sags.shakya@gmail.com"
   ]
  },
  {
   "cell_type": "markdown",
   "metadata": {},
   "source": [
    "- Here, we create a year - wise data out of day - wise data and convert into a pickle file to be used later."
   ]
  },
  {
   "cell_type": "markdown",
   "metadata": {},
   "source": [
    "### Importing necessary libraries."
   ]
  },
  {
   "cell_type": "code",
   "execution_count": 1,
   "metadata": {},
   "outputs": [],
   "source": [
    "import pandas as pd\n",
    "import numpy as np\n",
    "from bs4 import BeautifulSoup as BS\n",
    "import requests\n",
    "import os"
   ]
  },
  {
   "cell_type": "code",
   "execution_count": 2,
   "metadata": {},
   "outputs": [],
   "source": [
    "wd = r'C:\\Users\\acer\\Desktop\\PythonProgramming\\Nepali_Hindi Language Classification'\n",
    "os.chdir(wd)"
   ]
  },
  {
   "cell_type": "markdown",
   "metadata": {},
   "source": [
    "### Fetching the 'a' elements from the <a href = 'https://www.dainiktribuneonline.com'>website</a>."
   ]
  },
  {
   "cell_type": "code",
   "execution_count": 34,
   "metadata": {},
   "outputs": [],
   "source": [
    "def fetchData(url):\n",
    "    page = requests.get(url)\n",
    "    soup = BS(page.text, 'html.parser')\n",
    "    div_text = soup.find_all('h3', class_ = 'width_100')\n",
    "    return [div_text[ii].a.text for ii in range(len(div_text))]"
   ]
  },
  {
   "cell_type": "markdown",
   "metadata": {},
   "source": [
    "### Function to generating the day - wise - URLs using a given epoch year.\n"
   ]
  },
  {
   "cell_type": "code",
   "execution_count": 36,
   "metadata": {},
   "outputs": [],
   "source": [
    "from datetime import date,timedelta\n",
    "\n",
    "def getURL(epoch_year, getDates = False):\n",
    "    \n",
    "    gap = int(str(date(int(epoch_year),12,31) - date(int(epoch_year),1,1))[:3])\n",
    "\n",
    "    date_list = [str(date(int(epoch_year),1,1) + timedelta(ii)) for ii in range(gap+1)]\n",
    "    date_list = [dates.replace('-','/') for dates in date_list]\n",
    "\n",
    "    url_list = [r'https://www.dainiktribuneonline.com/' + dates for dates in date_list]\n",
    "    \n",
    "    if getDates:\n",
    "        return date_list, url_list\n",
    "    else:\n",
    "        return url_list"
   ]
  },
  {
   "cell_type": "code",
   "execution_count": 37,
   "metadata": {},
   "outputs": [],
   "source": [
    "date_list_2017, url_list_2017 = getURL(2017, True)"
   ]
  },
  {
   "cell_type": "code",
   "execution_count": 38,
   "metadata": {},
   "outputs": [],
   "source": [
    "date_list_2018, url_list_2018 = getURL(2018, True)"
   ]
  },
  {
   "cell_type": "code",
   "execution_count": 39,
   "metadata": {},
   "outputs": [],
   "source": [
    "date_list_2019, url_list_2019 = getURL(2019, True)"
   ]
  },
  {
   "cell_type": "markdown",
   "metadata": {},
   "source": [
    "### Generating a dictionary."
   ]
  },
  {
   "cell_type": "code",
   "execution_count": 40,
   "metadata": {},
   "outputs": [],
   "source": [
    "# Generating a dictionary for 2017.\n",
    "date_wise_text_2017 = dict()\n",
    "for ii in range(0,len(date_list_2017),3):\n",
    "    date_wise_text_2017[date_list_2017[ii]] = fetchData(url_list_2017[ii])"
   ]
  },
  {
   "cell_type": "code",
   "execution_count": 45,
   "metadata": {},
   "outputs": [],
   "source": [
    "# Generating a dictionary for 2018.\n",
    "date_wise_text_2018 = dict()\n",
    "for ii in range(0,len(date_list_2018),3):\n",
    "    date_wise_text_2018[date_list_2018[ii]] = fetchData(url_list_2018[ii])"
   ]
  },
  {
   "cell_type": "code",
   "execution_count": 46,
   "metadata": {},
   "outputs": [],
   "source": [
    "# Generating a dictionary for 2019.\n",
    "date_wise_text_2019 = dict()\n",
    "for ii in range(0,len(date_list_2019),3):\n",
    "    date_wise_text_2019[date_list_2019[ii]] = fetchData(url_list_2019[ii])"
   ]
  },
  {
   "cell_type": "code",
   "execution_count": 44,
   "metadata": {},
   "outputs": [
    {
     "data": {
      "text/plain": [
       "326"
      ]
     },
     "execution_count": 44,
     "metadata": {},
     "output_type": "execute_result"
    }
   ],
   "source": [
    "len(date_wise_text_2017['2017/05/04'])"
   ]
  },
  {
   "cell_type": "markdown",
   "metadata": {},
   "source": [
    "### Pickling the dictionary."
   ]
  },
  {
   "cell_type": "code",
   "execution_count": 47,
   "metadata": {},
   "outputs": [],
   "source": [
    "import pickle"
   ]
  },
  {
   "cell_type": "code",
   "execution_count": 49,
   "metadata": {},
   "outputs": [],
   "source": [
    "def dumpPickle(myfile, filename):\n",
    "    pickle.dump(myfile, open(str(filename) , \"wb\"))  # save it into a file named save.p"
   ]
  },
  {
   "cell_type": "code",
   "execution_count": 54,
   "metadata": {},
   "outputs": [],
   "source": [
    "dumpPickle(date_wise_text_2017, 'date_wise_text_2017_hindi.p')"
   ]
  },
  {
   "cell_type": "code",
   "execution_count": 55,
   "metadata": {},
   "outputs": [],
   "source": [
    "dumpPickle(date_wise_text_2018, 'date_wise_text_2018_hindi.p')"
   ]
  },
  {
   "cell_type": "code",
   "execution_count": 56,
   "metadata": {},
   "outputs": [],
   "source": [
    "dumpPickle(date_wise_text_2019, 'date_wise_text_2019_hindi.p')"
   ]
  },
  {
   "cell_type": "markdown",
   "metadata": {},
   "source": [
    "# The End."
   ]
  }
 ],
 "metadata": {
  "kernelspec": {
   "display_name": "Python 3",
   "language": "python",
   "name": "python3"
  },
  "language_info": {
   "codemirror_mode": {
    "name": "ipython",
    "version": 3
   },
   "file_extension": ".py",
   "mimetype": "text/x-python",
   "name": "python",
   "nbconvert_exporter": "python",
   "pygments_lexer": "ipython3",
   "version": "3.7.2"
  }
 },
 "nbformat": 4,
 "nbformat_minor": 2
}
