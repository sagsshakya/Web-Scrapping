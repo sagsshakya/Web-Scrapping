{
 "cells": [
  {
   "cell_type": "markdown",
   "metadata": {},
   "source": [
    "# Sampling & Data Cleaning.\n",
    "- Prepared by: <a href = 'https://github.com/sagsshakya'> Sagun Shakya </a>\n",
    "- MSc. Data Science\n",
    "- GITAM Institute of Science, Visakhapatnam.\n",
    "- Email: sags.shakya@gmail.com"
   ]
  },
  {
   "cell_type": "markdown",
   "metadata": {},
   "source": [
    "- We will take randomly 20,000 samples from both the previously pickled datasets and clean them.\n",
    "- Cleaning Process includes:\n",
    "    - Removing punctuations (in both scripts - Nepali and English).\n",
    "    - Removing numbers (in both scripts - Nepali and English).\n",
    "    - Removing unprocessed UNICODE characters.\n",
    "    "
   ]
  },
  {
   "cell_type": "markdown",
   "metadata": {},
   "source": [
    "### Importing necessary libraries."
   ]
  },
  {
   "cell_type": "code",
   "execution_count": 1,
   "metadata": {},
   "outputs": [],
   "source": [
    "import os\n",
    "import pickle\n",
    "import pandas as pd\n",
    "import numpy as np\n",
    "import re"
   ]
  },
  {
   "cell_type": "code",
   "execution_count": 2,
   "metadata": {},
   "outputs": [],
   "source": [
    "os.chdir(r'C:\\Users\\acer\\Desktop\\PythonProgramming\\Nepali_Hindi Language Classification')"
   ]
  },
  {
   "cell_type": "markdown",
   "metadata": {},
   "source": [
    "### Loading up the files."
   ]
  },
  {
   "cell_type": "code",
   "execution_count": 3,
   "metadata": {},
   "outputs": [],
   "source": [
    "nepali_raw = pickle.load(open('Nepali_Language.pkl', 'rb'))\n",
    "hindi_raw = pickle.load(open('hindi_Language.pkl', 'rb'))\n"
   ]
  },
  {
   "cell_type": "code",
   "execution_count": 4,
   "metadata": {},
   "outputs": [
    {
     "name": "stdout",
     "output_type": "stream",
     "text": [
      "Total number of rows in Nepali:  20871\n",
      "Total number of rows in Hindi:  118957\n"
     ]
    }
   ],
   "source": [
    "print('Total number of rows in Nepali: ',len(nepali_raw))\n",
    "print('Total number of rows in Hindi: ',len(hindi_raw))"
   ]
  },
  {
   "cell_type": "markdown",
   "metadata": {},
   "source": [
    "### Converting the series into dataframe."
   ]
  },
  {
   "cell_type": "code",
   "execution_count": 5,
   "metadata": {},
   "outputs": [],
   "source": [
    "nepali_raw = nepali_raw.to_frame().reset_index(drop = True)\n",
    "hindi_raw = hindi_raw.to_frame().reset_index(drop = True)"
   ]
  },
  {
   "cell_type": "markdown",
   "metadata": {},
   "source": [
    "### Taking 20k random samples from both datasets."
   ]
  },
  {
   "cell_type": "code",
   "execution_count": 6,
   "metadata": {},
   "outputs": [],
   "source": [
    "nepali_sample = nepali_raw.sample(n = 20000, random_state=100).reset_index(drop = True)\n",
    "hindi_sample = hindi_raw.sample(n = 20000, random_state=100).reset_index(drop = True)"
   ]
  },
  {
   "cell_type": "code",
   "execution_count": 7,
   "metadata": {},
   "outputs": [
    {
     "data": {
      "text/html": [
       "<div>\n",
       "<style scoped>\n",
       "    .dataframe tbody tr th:only-of-type {\n",
       "        vertical-align: middle;\n",
       "    }\n",
       "\n",
       "    .dataframe tbody tr th {\n",
       "        vertical-align: top;\n",
       "    }\n",
       "\n",
       "    .dataframe thead th {\n",
       "        text-align: right;\n",
       "    }\n",
       "</style>\n",
       "<table border=\"1\" class=\"dataframe\">\n",
       "  <thead>\n",
       "    <tr style=\"text-align: right;\">\n",
       "      <th></th>\n",
       "      <th>0</th>\n",
       "    </tr>\n",
       "  </thead>\n",
       "  <tbody>\n",
       "    <tr>\n",
       "      <td>0</td>\n",
       "      <td>१२ औं राष्ट्रिय जनगणना २०७८ को तयारी सरकारले थ...</td>\n",
       "    </tr>\n",
       "    <tr>\n",
       "      <td>1</td>\n",
       "      <td>सत्ता घटक कांग्रेस र माओवादी केन्द्रले जिल्लाम...</td>\n",
       "    </tr>\n",
       "    <tr>\n",
       "      <td>2</td>\n",
       "      <td>नयाँ शैक्षिक सत्र सुरु हुन महिना दिन बाँकी छ ।...</td>\n",
       "    </tr>\n",
       "    <tr>\n",
       "      <td>3</td>\n",
       "      <td>हाम्रो देशमा नदीनाला, झरना, ताल, पोखरी गरी पान...</td>\n",
       "    </tr>\n",
       "    <tr>\n",
       "      <td>4</td>\n",
       "      <td>अन्य प्रदेशको दाँजोमा सबैभन्दा ढिलो कोरोना संक...</td>\n",
       "    </tr>\n",
       "    <tr>\n",
       "      <td>5</td>\n",
       "      <td>हाम्रो देशमा नदीनाला, झरना, ताल, पोखरी गरी पान...</td>\n",
       "    </tr>\n",
       "    <tr>\n",
       "      <td>6</td>\n",
       "      <td>प्रतिबन्धित चितुवाको छालासहित प्रहरीले तीन युव...</td>\n",
       "    </tr>\n",
       "    <tr>\n",
       "      <td>7</td>\n",
       "      <td>हाम्रा जनप्रतिनिधि र सरकारी संयन्त्र कतिसम्म अ...</td>\n",
       "    </tr>\n",
       "    <tr>\n",
       "      <td>8</td>\n",
       "      <td>केही दिनअघि दक्षिण भारतीय राज्य केरलामा जनावरम...</td>\n",
       "    </tr>\n",
       "    <tr>\n",
       "      <td>9</td>\n",
       "      <td>ललिता निवास प्रकरणमा पूर्वप्रधानमन्त्रीहरु माध...</td>\n",
       "    </tr>\n",
       "  </tbody>\n",
       "</table>\n",
       "</div>"
      ],
      "text/plain": [
       "                                                   0\n",
       "0  १२ औं राष्ट्रिय जनगणना २०७८ को तयारी सरकारले थ...\n",
       "1  सत्ता घटक कांग्रेस र माओवादी केन्द्रले जिल्लाम...\n",
       "2  नयाँ शैक्षिक सत्र सुरु हुन महिना दिन बाँकी छ ।...\n",
       "3  हाम्रो देशमा नदीनाला, झरना, ताल, पोखरी गरी पान...\n",
       "4  अन्य प्रदेशको दाँजोमा सबैभन्दा ढिलो कोरोना संक...\n",
       "5  हाम्रो देशमा नदीनाला, झरना, ताल, पोखरी गरी पान...\n",
       "6  प्रतिबन्धित चितुवाको छालासहित प्रहरीले तीन युव...\n",
       "7  हाम्रा जनप्रतिनिधि र सरकारी संयन्त्र कतिसम्म अ...\n",
       "8  केही दिनअघि दक्षिण भारतीय राज्य केरलामा जनावरम...\n",
       "9  ललिता निवास प्रकरणमा पूर्वप्रधानमन्त्रीहरु माध..."
      ]
     },
     "execution_count": 7,
     "metadata": {},
     "output_type": "execute_result"
    }
   ],
   "source": [
    "nepali_sample.head(10)"
   ]
  },
  {
   "cell_type": "markdown",
   "metadata": {},
   "source": [
    "### Text cleaning."
   ]
  },
  {
   "cell_type": "code",
   "execution_count": 8,
   "metadata": {},
   "outputs": [],
   "source": [
    "import string"
   ]
  },
  {
   "cell_type": "markdown",
   "metadata": {},
   "source": [
    "##### The fastest way to clean the text is to use the <a href = 'https://www.geeksforgeeks.org/python-maketrans-translate-functions/'>translation table</a>."
   ]
  },
  {
   "cell_type": "markdown",
   "metadata": {},
   "source": [
    "### Cleaning Hindi texts."
   ]
  },
  {
   "cell_type": "code",
   "execution_count": 9,
   "metadata": {},
   "outputs": [],
   "source": [
    "cleaner = lambda y: y[0].translate(str.maketrans('', '', string.punctuation + string.digits))"
   ]
  },
  {
   "cell_type": "code",
   "execution_count": 10,
   "metadata": {},
   "outputs": [],
   "source": [
    "hindi_sample = hindi_sample.apply(cleaner, axis = 1)\n",
    "hindi_sample = hindi_sample.to_frame()"
   ]
  },
  {
   "cell_type": "code",
   "execution_count": 11,
   "metadata": {},
   "outputs": [
    {
     "data": {
      "text/html": [
       "<div>\n",
       "<style scoped>\n",
       "    .dataframe tbody tr th:only-of-type {\n",
       "        vertical-align: middle;\n",
       "    }\n",
       "\n",
       "    .dataframe tbody tr th {\n",
       "        vertical-align: top;\n",
       "    }\n",
       "\n",
       "    .dataframe thead th {\n",
       "        text-align: right;\n",
       "    }\n",
       "</style>\n",
       "<table border=\"1\" class=\"dataframe\">\n",
       "  <thead>\n",
       "    <tr style=\"text-align: right;\">\n",
       "      <th></th>\n",
       "      <th>0</th>\n",
       "    </tr>\n",
       "  </thead>\n",
       "  <tbody>\n",
       "    <tr>\n",
       "      <td>19993</td>\n",
       "      <td>शहीद नरेंद्र सिंह के घर पहुंचे बिट्टा</td>\n",
       "    </tr>\n",
       "    <tr>\n",
       "      <td>19994</td>\n",
       "      <td>नगर निगम चुनाव सभी  नामांकन पत्र सही</td>\n",
       "    </tr>\n",
       "    <tr>\n",
       "      <td>19995</td>\n",
       "      <td>फिटनेस में पिछड़ जाते हैं भारतीय खिलाड़ी  धोनी</td>\n",
       "    </tr>\n",
       "    <tr>\n",
       "      <td>19996</td>\n",
       "      <td>पारा  डिग्री लुढ़का मौसम हुआ सुहावना गर्मी से ...</td>\n",
       "    </tr>\n",
       "    <tr>\n",
       "      <td>19997</td>\n",
       "      <td>परिवहन मंत्री ने  डग्गेमार बसों को पकड़ा</td>\n",
       "    </tr>\n",
       "    <tr>\n",
       "      <td>19998</td>\n",
       "      <td>संसद घेराव को लेकर की कार्यकर्ता बैठक</td>\n",
       "    </tr>\n",
       "    <tr>\n",
       "      <td>19999</td>\n",
       "      <td>पालिका प्रशासन ने निकाली जागरूकता रैली</td>\n",
       "    </tr>\n",
       "  </tbody>\n",
       "</table>\n",
       "</div>"
      ],
      "text/plain": [
       "                                                       0\n",
       "19993              शहीद नरेंद्र सिंह के घर पहुंचे बिट्टा\n",
       "19994               नगर निगम चुनाव सभी  नामांकन पत्र सही\n",
       "19995       फिटनेस में पिछड़ जाते हैं भारतीय खिलाड़ी  धोनी\n",
       "19996  पारा  डिग्री लुढ़का मौसम हुआ सुहावना गर्मी से ...\n",
       "19997           परिवहन मंत्री ने  डग्गेमार बसों को पकड़ा\n",
       "19998              संसद घेराव को लेकर की कार्यकर्ता बैठक\n",
       "19999             पालिका प्रशासन ने निकाली जागरूकता रैली"
      ]
     },
     "execution_count": 11,
     "metadata": {},
     "output_type": "execute_result"
    }
   ],
   "source": [
    "hindi_sample.tail(7)"
   ]
  },
  {
   "cell_type": "markdown",
   "metadata": {},
   "source": [
    "### Cleaning Nepali texts."
   ]
  },
  {
   "cell_type": "code",
   "execution_count": 12,
   "metadata": {},
   "outputs": [],
   "source": [
    "def cleaner_nepali(y):\n",
    "    y = y[0]\n",
    "    y = ' '.join(y.split())\n",
    "    nepali_digits = ''.join([chr(2406+ii) for ii in range(10)])   # '०१२३४५६७८९'\n",
    "    y = y.translate(str.maketrans('', '', string.punctuation + nepali_digits +\n",
    "                                  '।‘’.—' + '!\"#$%&\\'()*+,-./:;<=>?@[\\\\]^_`{|}~'))\n",
    "    return y"
   ]
  },
  {
   "cell_type": "code",
   "execution_count": 13,
   "metadata": {},
   "outputs": [],
   "source": [
    "nepali_sample = nepali_sample.apply(cleaner_nepali, axis = 1)\n",
    "nepali_sample = nepali_sample.to_frame()"
   ]
  },
  {
   "cell_type": "code",
   "execution_count": 14,
   "metadata": {},
   "outputs": [
    {
     "data": {
      "text/html": [
       "<div>\n",
       "<style scoped>\n",
       "    .dataframe tbody tr th:only-of-type {\n",
       "        vertical-align: middle;\n",
       "    }\n",
       "\n",
       "    .dataframe tbody tr th {\n",
       "        vertical-align: top;\n",
       "    }\n",
       "\n",
       "    .dataframe thead th {\n",
       "        text-align: right;\n",
       "    }\n",
       "</style>\n",
       "<table border=\"1\" class=\"dataframe\">\n",
       "  <thead>\n",
       "    <tr style=\"text-align: right;\">\n",
       "      <th></th>\n",
       "      <th>0</th>\n",
       "    </tr>\n",
       "  </thead>\n",
       "  <tbody>\n",
       "    <tr>\n",
       "      <td>0</td>\n",
       "      <td>औं राष्ट्रिय जनगणना  को तयारी सरकारले थालेको ...</td>\n",
       "    </tr>\n",
       "    <tr>\n",
       "      <td>1</td>\n",
       "      <td>सत्ता घटक कांग्रेस र माओवादी केन्द्रले जिल्लाम...</td>\n",
       "    </tr>\n",
       "    <tr>\n",
       "      <td>2</td>\n",
       "      <td>नयाँ शैक्षिक सत्र सुरु हुन महिना दिन बाँकी छ  ...</td>\n",
       "    </tr>\n",
       "    <tr>\n",
       "      <td>3</td>\n",
       "      <td>हाम्रो देशमा नदीनाला झरना ताल पोखरी गरी पानीका...</td>\n",
       "    </tr>\n",
       "    <tr>\n",
       "      <td>4</td>\n",
       "      <td>अन्य प्रदेशको दाँजोमा सबैभन्दा ढिलो कोरोना संक...</td>\n",
       "    </tr>\n",
       "    <tr>\n",
       "      <td>5</td>\n",
       "      <td>हाम्रो देशमा नदीनाला झरना ताल पोखरी गरी पानीका...</td>\n",
       "    </tr>\n",
       "    <tr>\n",
       "      <td>6</td>\n",
       "      <td>प्रतिबन्धित चितुवाको छालासहित प्रहरीले तीन युव...</td>\n",
       "    </tr>\n",
       "  </tbody>\n",
       "</table>\n",
       "</div>"
      ],
      "text/plain": [
       "                                                   0\n",
       "0   औं राष्ट्रिय जनगणना  को तयारी सरकारले थालेको ...\n",
       "1  सत्ता घटक कांग्रेस र माओवादी केन्द्रले जिल्लाम...\n",
       "2  नयाँ शैक्षिक सत्र सुरु हुन महिना दिन बाँकी छ  ...\n",
       "3  हाम्रो देशमा नदीनाला झरना ताल पोखरी गरी पानीका...\n",
       "4  अन्य प्रदेशको दाँजोमा सबैभन्दा ढिलो कोरोना संक...\n",
       "5  हाम्रो देशमा नदीनाला झरना ताल पोखरी गरी पानीका...\n",
       "6  प्रतिबन्धित चितुवाको छालासहित प्रहरीले तीन युव..."
      ]
     },
     "execution_count": 14,
     "metadata": {},
     "output_type": "execute_result"
    }
   ],
   "source": [
    "nepali_sample.head(7)"
   ]
  },
  {
   "cell_type": "markdown",
   "metadata": {},
   "source": [
    "### Pickling the DataFrame."
   ]
  },
  {
   "cell_type": "code",
   "execution_count": 17,
   "metadata": {},
   "outputs": [],
   "source": [
    "nepali_sample.to_pickle('nepali_sample_cleaned.pkl')"
   ]
  },
  {
   "cell_type": "code",
   "execution_count": 18,
   "metadata": {},
   "outputs": [],
   "source": [
    "hindi_sample.to_pickle('hindi_sample_cleaned.pkl')"
   ]
  },
  {
   "cell_type": "markdown",
   "metadata": {},
   "source": [
    "# The End."
   ]
  }
 ],
 "metadata": {
  "kernelspec": {
   "display_name": "Python 3",
   "language": "python",
   "name": "python3"
  },
  "language_info": {
   "codemirror_mode": {
    "name": "ipython",
    "version": 3
   },
   "file_extension": ".py",
   "mimetype": "text/x-python",
   "name": "python",
   "nbconvert_exporter": "python",
   "pygments_lexer": "ipython3",
   "version": "3.7.2"
  }
 },
 "nbformat": 4,
 "nbformat_minor": 2
}
