{
 "cells": [
  {
   "cell_type": "markdown",
   "metadata": {},
   "source": [
    "# Fetching the data from <a href = 'https://ekantipur.com/'>ekantipur website</a>."
   ]
  },
  {
   "cell_type": "markdown",
   "metadata": {},
   "source": [
    "\n",
    "- Prepared by: <a href = 'https://github.com/sagsshakya'> Sagun Shakya </a>\n",
    "- MSc. Data Science\n",
    "- GITAM Institute of Science, Visakhapatnam.\n",
    "- Email: sags.shakya@gmail.com\n"
   ]
  },
  {
   "cell_type": "markdown",
   "metadata": {},
   "source": [
    "## Importing necessary libraries."
   ]
  },
  {
   "cell_type": "code",
   "execution_count": 81,
   "metadata": {},
   "outputs": [],
   "source": [
    "import pandas as pd\n",
    "import numpy as np\n",
    "from bs4 import BeautifulSoup as BS\n",
    "import requests\n",
    "import os"
   ]
  },
  {
   "cell_type": "code",
   "execution_count": 52,
   "metadata": {},
   "outputs": [],
   "source": [
    "os.chdir(r'C:\\Users\\Habeeb\\Documents\\Sagun\\Python\\Language Classification\\Nepali')"
   ]
  },
  {
   "cell_type": "markdown",
   "metadata": {},
   "source": [
    "## Fetching the paragraph elements from the website."
   ]
  },
  {
   "cell_type": "code",
   "execution_count": 13,
   "metadata": {},
   "outputs": [],
   "source": [
    "def fetchData(url):\n",
    "    page = requests.get(url)\n",
    "\n",
    "    soup = BS(page.text, 'html.parser')\n",
    "\n",
    "    p_text = soup.find_all('p')\n",
    "\n",
    "    return [ii.text for ii in p_text]\n",
    "    \n",
    "    "
   ]
  },
  {
   "cell_type": "markdown",
   "metadata": {},
   "source": [
    "## Generating the urls using the dates."
   ]
  },
  {
   "cell_type": "code",
   "execution_count": 35,
   "metadata": {},
   "outputs": [],
   "source": [
    "from datetime import date,timedelta"
   ]
  },
  {
   "cell_type": "code",
   "execution_count": 38,
   "metadata": {},
   "outputs": [],
   "source": [
    "gap = int(str(date(2020,6,6) - date(2020,1,1))[:3])"
   ]
  },
  {
   "cell_type": "code",
   "execution_count": 39,
   "metadata": {},
   "outputs": [],
   "source": [
    "date_list = [str(date(2020,1,1) + timedelta(ii)) for ii in range(gap+1)]\n",
    "date_list = [dates.replace('-','/') for dates in date_list]"
   ]
  },
  {
   "cell_type": "code",
   "execution_count": 41,
   "metadata": {},
   "outputs": [],
   "source": [
    "url_list = [r'https://ekantipur.com/news/' + dates for dates in date_list]"
   ]
  },
  {
   "cell_type": "markdown",
   "metadata": {},
   "source": [
    "## Generating a dictionary."
   ]
  },
  {
   "cell_type": "code",
   "execution_count": 47,
   "metadata": {},
   "outputs": [],
   "source": [
    "date_wise_text = dict()\n",
    "for ii in range(len(date_list)):\n",
    "    date_wise_text[date_list[ii]] = fetchData(url_list[ii])"
   ]
  },
  {
   "cell_type": "markdown",
   "metadata": {},
   "source": [
    "## Pickling the dictionary."
   ]
  },
  {
   "cell_type": "code",
   "execution_count": 53,
   "metadata": {},
   "outputs": [],
   "source": [
    "import pickle"
   ]
  },
  {
   "cell_type": "code",
   "execution_count": 54,
   "metadata": {},
   "outputs": [],
   "source": [
    "pickle.dump(date_wise_text, open(\"date_wise_text_2020.p\", \"wb\"))  # save it into a file named save.p"
   ]
  },
  {
   "cell_type": "markdown",
   "metadata": {},
   "source": [
    "#### Load the dictionary back from the pickle file.\n",
    "- import pickle\n",
    "\n",
    "- favorite_color = pickle.load(open(\"save.p\", \"rb\"))"
   ]
  },
  {
   "cell_type": "markdown",
   "metadata": {},
   "source": [
    "# Function to generating the day - wise - URLs using a given epoch year."
   ]
  },
  {
   "cell_type": "code",
   "execution_count": 71,
   "metadata": {},
   "outputs": [],
   "source": [
    "from datetime import date,timedelta\n",
    "\n",
    "def getURL(epoch_year, getDates = False):\n",
    "    \n",
    "    gap = int(str(date(int(epoch_year),12,31) - date(int(epoch_year),1,1))[:3])\n",
    "\n",
    "    date_list = [str(date(int(epoch_year),1,1) + timedelta(ii)) for ii in range(gap+1)]\n",
    "    date_list = [dates.replace('-','/') for dates in date_list]\n",
    "\n",
    "    url_list = [r'https://ekantipur.com/news/' + dates for dates in date_list]\n",
    "    \n",
    "    if getDates:\n",
    "        return date_list, url_list\n",
    "    else:\n",
    "        return url_list"
   ]
  },
  {
   "cell_type": "markdown",
   "metadata": {},
   "source": [
    "## Illustration."
   ]
  },
  {
   "cell_type": "code",
   "execution_count": 74,
   "metadata": {},
   "outputs": [],
   "source": [
    "date_list_2018, url_list_2018 = getURL(2018, True)"
   ]
  },
  {
   "cell_type": "markdown",
   "metadata": {},
   "source": [
    "### Generating a dictionary for 2018."
   ]
  },
  {
   "cell_type": "code",
   "execution_count": 77,
   "metadata": {},
   "outputs": [],
   "source": [
    "date_wise_text_2018 = dict()\n",
    "for ii in range(0,len(date_list_2018),3):\n",
    "    date_wise_text_2018[date_list_2018[ii]] = fetchData(url_list_2018[ii])"
   ]
  },
  {
   "cell_type": "markdown",
   "metadata": {},
   "source": [
    "### Pickling the dictionary."
   ]
  },
  {
   "cell_type": "code",
   "execution_count": 78,
   "metadata": {},
   "outputs": [],
   "source": [
    "pickle.dump(date_wise_text_2018, open(\"date_wise_text_2018.p\", \"wb\"))  # save it into a file named save.p"
   ]
  },
  {
   "cell_type": "code",
   "execution_count": 79,
   "metadata": {},
   "outputs": [],
   "source": [
    "date_list_2019, url_list_2019 = getURL(2019, True)\n",
    "\n",
    "### Generating a dictionary for 2019.\n",
    "\n",
    "date_wise_text_2019 = dict()\n",
    "for ii in range(0,len(date_list_2019),3):\n",
    "    date_wise_text_2019[date_list_2019[ii]] = fetchData(url_list_2019[ii])\n",
    "\n",
    "### Pickling the dictionary.\n",
    "\n",
    "pickle.dump(date_wise_text_2019, open(\"date_wise_text_2019.p\", \"wb\"))  # save it into a file named save.p"
   ]
  },
  {
   "cell_type": "code",
   "execution_count": 80,
   "metadata": {},
   "outputs": [],
   "source": [
    "date_list_2017, url_list_2017 = getURL(2017, True)\n",
    "\n",
    "### Generating a dictionary for 2017.\n",
    "\n",
    "date_wise_text_2017 = dict()\n",
    "for ii in range(0,len(date_list_2017),3):\n",
    "    date_wise_text_2017[date_list_2017[ii]] = fetchData(url_list_2017[ii])\n",
    "\n",
    "### Pickling the dictionary.\n",
    "\n",
    "pickle.dump(date_wise_text_2017, open(\"date_wise_text_2017.p\", \"wb\"))  # save it into a file named save.p"
   ]
  },
  {
   "cell_type": "markdown",
   "metadata": {},
   "source": [
    "# The End."
   ]
  }
 ],
 "metadata": {
  "kernelspec": {
   "display_name": "Python 3",
   "language": "python",
   "name": "python3"
  },
  "language_info": {
   "codemirror_mode": {
    "name": "ipython",
    "version": 3
   },
   "file_extension": ".py",
   "mimetype": "text/x-python",
   "name": "python",
   "nbconvert_exporter": "python",
   "pygments_lexer": "ipython3",
   "version": "3.7.5"
  }
 },
 "nbformat": 4,
 "nbformat_minor": 4
}
