{
 "cells": [
  {
   "cell_type": "markdown",
   "metadata": {},
   "source": [
    "# Fake News Classification.\n",
    "\n",
    "- Prepared by: <a href = 'https://github.com/sagsshakya'> Sagun Shakya </a>\n",
    "- MSc. Data Science\n",
    "- GITAM Institute of Science, Visakhapatnam.\n",
    "- Email: sags.shakya@gmail.com\n"
   ]
  },
  {
   "cell_type": "markdown",
   "metadata": {},
   "source": [
    "#### Dataset: https://www.kaggle.com/clmentbisaillon/fake-and-real-news-dataset"
   ]
  },
  {
   "cell_type": "markdown",
   "metadata": {},
   "source": [
    "## Workflow:"
   ]
  },
  {
   "cell_type": "markdown",
   "metadata": {},
   "source": [
    "### Part I: Using titles.\n",
    "- Using TFIDF Vectorizer.\n",
    "    - Using Naive Bayes Classification.\n",
    "    - Using Logistic Regression Classification.\n",
    "- Using Count Vectorizer.\n",
    "    - Using Naive Bayes Classification.\n",
    "    - Using Logistic Regression Classification.\n",
    "\n",
    "### Part II: Using texts.\n",
    "- Using TFIDF Vectorizer.\n",
    "    - Using Naive Bayes Classification.\n",
    "    - Using Logistic Regression Classification.\n",
    "- Using Count Vectorizer.\n",
    "    - Using Naive Bayes Classification.\n",
    "    - Using Logistic Regression Classification. "
   ]
  },
  {
   "cell_type": "markdown",
   "metadata": {},
   "source": [
    "### Importing the necessary libraries."
   ]
  },
  {
   "cell_type": "code",
   "execution_count": 1,
   "metadata": {},
   "outputs": [],
   "source": [
    "import pandas as pd\n",
    "import numpy as np\n",
    "import matplotlib.pyplot as plt\n",
    "import seaborn as sns\n",
    "import os\n",
    "import nltk"
   ]
  },
  {
   "cell_type": "markdown",
   "metadata": {},
   "source": [
    "#### Working directory."
   ]
  },
  {
   "cell_type": "code",
   "execution_count": 2,
   "metadata": {},
   "outputs": [],
   "source": [
    "os.chdir(r'C:\\Users\\Habeeb\\Documents\\Sagun\\Python\\csv files\\Fake News')"
   ]
  },
  {
   "cell_type": "code",
   "execution_count": 3,
   "metadata": {},
   "outputs": [],
   "source": [
    "fake_raw = pd.read_csv('Fake.csv')\n",
    "true_raw = pd.read_csv('True.csv')"
   ]
  },
  {
   "cell_type": "code",
   "execution_count": 4,
   "metadata": {},
   "outputs": [],
   "source": [
    "fake_raw.dropna(axis =1, inplace=True)"
   ]
  },
  {
   "cell_type": "code",
   "execution_count": 5,
   "metadata": {},
   "outputs": [],
   "source": [
    "true_raw.dropna(axis = 1, inplace=True)"
   ]
  },
  {
   "cell_type": "code",
   "execution_count": 6,
   "metadata": {},
   "outputs": [
    {
     "data": {
      "text/html": [
       "<div>\n",
       "<style scoped>\n",
       "    .dataframe tbody tr th:only-of-type {\n",
       "        vertical-align: middle;\n",
       "    }\n",
       "\n",
       "    .dataframe tbody tr th {\n",
       "        vertical-align: top;\n",
       "    }\n",
       "\n",
       "    .dataframe thead th {\n",
       "        text-align: right;\n",
       "    }\n",
       "</style>\n",
       "<table border=\"1\" class=\"dataframe\">\n",
       "  <thead>\n",
       "    <tr style=\"text-align: right;\">\n",
       "      <th></th>\n",
       "      <th>title</th>\n",
       "      <th>text</th>\n",
       "      <th>subject</th>\n",
       "      <th>date</th>\n",
       "    </tr>\n",
       "  </thead>\n",
       "  <tbody>\n",
       "    <tr>\n",
       "      <th>0</th>\n",
       "      <td>Donald Trump Sends Out Embarrassing New Year’...</td>\n",
       "      <td>Donald Trump just couldn t wish all Americans ...</td>\n",
       "      <td>News</td>\n",
       "      <td>December 31, 2017</td>\n",
       "    </tr>\n",
       "    <tr>\n",
       "      <th>1</th>\n",
       "      <td>Drunk Bragging Trump Staffer Started Russian ...</td>\n",
       "      <td>House Intelligence Committee Chairman Devin Nu...</td>\n",
       "      <td>News</td>\n",
       "      <td>December 31, 2017</td>\n",
       "    </tr>\n",
       "    <tr>\n",
       "      <th>2</th>\n",
       "      <td>Sheriff David Clarke Becomes An Internet Joke...</td>\n",
       "      <td>On Friday, it was revealed that former Milwauk...</td>\n",
       "      <td>News</td>\n",
       "      <td>December 30, 2017</td>\n",
       "    </tr>\n",
       "    <tr>\n",
       "      <th>3</th>\n",
       "      <td>Trump Is So Obsessed He Even Has Obama’s Name...</td>\n",
       "      <td>On Christmas day, Donald Trump announced that ...</td>\n",
       "      <td>News</td>\n",
       "      <td>December 29, 2017</td>\n",
       "    </tr>\n",
       "    <tr>\n",
       "      <th>4</th>\n",
       "      <td>Pope Francis Just Called Out Donald Trump Dur...</td>\n",
       "      <td>Pope Francis used his annual Christmas Day mes...</td>\n",
       "      <td>News</td>\n",
       "      <td>December 25, 2017</td>\n",
       "    </tr>\n",
       "  </tbody>\n",
       "</table>\n",
       "</div>"
      ],
      "text/plain": [
       "                                               title  \\\n",
       "0   Donald Trump Sends Out Embarrassing New Year’...   \n",
       "1   Drunk Bragging Trump Staffer Started Russian ...   \n",
       "2   Sheriff David Clarke Becomes An Internet Joke...   \n",
       "3   Trump Is So Obsessed He Even Has Obama’s Name...   \n",
       "4   Pope Francis Just Called Out Donald Trump Dur...   \n",
       "\n",
       "                                                text subject  \\\n",
       "0  Donald Trump just couldn t wish all Americans ...    News   \n",
       "1  House Intelligence Committee Chairman Devin Nu...    News   \n",
       "2  On Friday, it was revealed that former Milwauk...    News   \n",
       "3  On Christmas day, Donald Trump announced that ...    News   \n",
       "4  Pope Francis used his annual Christmas Day mes...    News   \n",
       "\n",
       "                date  \n",
       "0  December 31, 2017  \n",
       "1  December 31, 2017  \n",
       "2  December 30, 2017  \n",
       "3  December 29, 2017  \n",
       "4  December 25, 2017  "
      ]
     },
     "execution_count": 6,
     "metadata": {},
     "output_type": "execute_result"
    }
   ],
   "source": [
    "fake_raw.head()"
   ]
  },
  {
   "cell_type": "code",
   "execution_count": 7,
   "metadata": {},
   "outputs": [
    {
     "data": {
      "text/html": [
       "<div>\n",
       "<style scoped>\n",
       "    .dataframe tbody tr th:only-of-type {\n",
       "        vertical-align: middle;\n",
       "    }\n",
       "\n",
       "    .dataframe tbody tr th {\n",
       "        vertical-align: top;\n",
       "    }\n",
       "\n",
       "    .dataframe thead th {\n",
       "        text-align: right;\n",
       "    }\n",
       "</style>\n",
       "<table border=\"1\" class=\"dataframe\">\n",
       "  <thead>\n",
       "    <tr style=\"text-align: right;\">\n",
       "      <th></th>\n",
       "      <th>title</th>\n",
       "      <th>text</th>\n",
       "      <th>subject</th>\n",
       "      <th>date</th>\n",
       "    </tr>\n",
       "  </thead>\n",
       "  <tbody>\n",
       "    <tr>\n",
       "      <th>0</th>\n",
       "      <td>As U.S. budget fight looms, Republicans flip t...</td>\n",
       "      <td>WASHINGTON (Reuters) - The head of a conservat...</td>\n",
       "      <td>politicsNews</td>\n",
       "      <td>December 31, 2017</td>\n",
       "    </tr>\n",
       "    <tr>\n",
       "      <th>1</th>\n",
       "      <td>U.S. military to accept transgender recruits o...</td>\n",
       "      <td>WASHINGTON (Reuters) - Transgender people will...</td>\n",
       "      <td>politicsNews</td>\n",
       "      <td>December 29, 2017</td>\n",
       "    </tr>\n",
       "    <tr>\n",
       "      <th>2</th>\n",
       "      <td>Senior U.S. Republican senator: 'Let Mr. Muell...</td>\n",
       "      <td>WASHINGTON (Reuters) - The special counsel inv...</td>\n",
       "      <td>politicsNews</td>\n",
       "      <td>December 31, 2017</td>\n",
       "    </tr>\n",
       "    <tr>\n",
       "      <th>3</th>\n",
       "      <td>FBI Russia probe helped by Australian diplomat...</td>\n",
       "      <td>WASHINGTON (Reuters) - Trump campaign adviser ...</td>\n",
       "      <td>politicsNews</td>\n",
       "      <td>December 30, 2017</td>\n",
       "    </tr>\n",
       "    <tr>\n",
       "      <th>4</th>\n",
       "      <td>Trump wants Postal Service to charge 'much mor...</td>\n",
       "      <td>SEATTLE/WASHINGTON (Reuters) - President Donal...</td>\n",
       "      <td>politicsNews</td>\n",
       "      <td>December 29, 2017</td>\n",
       "    </tr>\n",
       "  </tbody>\n",
       "</table>\n",
       "</div>"
      ],
      "text/plain": [
       "                                               title  \\\n",
       "0  As U.S. budget fight looms, Republicans flip t...   \n",
       "1  U.S. military to accept transgender recruits o...   \n",
       "2  Senior U.S. Republican senator: 'Let Mr. Muell...   \n",
       "3  FBI Russia probe helped by Australian diplomat...   \n",
       "4  Trump wants Postal Service to charge 'much mor...   \n",
       "\n",
       "                                                text       subject  \\\n",
       "0  WASHINGTON (Reuters) - The head of a conservat...  politicsNews   \n",
       "1  WASHINGTON (Reuters) - Transgender people will...  politicsNews   \n",
       "2  WASHINGTON (Reuters) - The special counsel inv...  politicsNews   \n",
       "3  WASHINGTON (Reuters) - Trump campaign adviser ...  politicsNews   \n",
       "4  SEATTLE/WASHINGTON (Reuters) - President Donal...  politicsNews   \n",
       "\n",
       "                 date  \n",
       "0  December 31, 2017   \n",
       "1  December 29, 2017   \n",
       "2  December 31, 2017   \n",
       "3  December 30, 2017   \n",
       "4  December 29, 2017   "
      ]
     },
     "execution_count": 7,
     "metadata": {},
     "output_type": "execute_result"
    }
   ],
   "source": [
    "true_raw.head()"
   ]
  },
  {
   "cell_type": "code",
   "execution_count": 8,
   "metadata": {},
   "outputs": [
    {
     "data": {
      "text/plain": [
       "(23481, 4)"
      ]
     },
     "execution_count": 8,
     "metadata": {},
     "output_type": "execute_result"
    }
   ],
   "source": [
    "fake_raw.shape"
   ]
  },
  {
   "cell_type": "code",
   "execution_count": 9,
   "metadata": {},
   "outputs": [
    {
     "data": {
      "text/plain": [
       "(21417, 4)"
      ]
     },
     "execution_count": 9,
     "metadata": {},
     "output_type": "execute_result"
    }
   ],
   "source": [
    "true_raw.shape"
   ]
  },
  {
   "cell_type": "markdown",
   "metadata": {},
   "source": [
    "### Adding labels of True and False for fake news.\n",
    "- 0: Fake\n",
    "- 1: True"
   ]
  },
  {
   "cell_type": "code",
   "execution_count": 10,
   "metadata": {},
   "outputs": [],
   "source": [
    "fake_raw['label'] = np.zeros(fake_raw.shape[0])"
   ]
  },
  {
   "cell_type": "code",
   "execution_count": 11,
   "metadata": {},
   "outputs": [],
   "source": [
    "true_raw['label'] = np.ones(true_raw.shape[0])"
   ]
  },
  {
   "cell_type": "code",
   "execution_count": 12,
   "metadata": {},
   "outputs": [],
   "source": [
    "true_raw['label'] = true_raw.label.astype(int)"
   ]
  },
  {
   "cell_type": "code",
   "execution_count": 13,
   "metadata": {},
   "outputs": [],
   "source": [
    "fake_raw['label'] = fake_raw.label.astype(int)"
   ]
  },
  {
   "cell_type": "markdown",
   "metadata": {},
   "source": [
    "### Concatenating two dataframes."
   ]
  },
  {
   "cell_type": "code",
   "execution_count": 14,
   "metadata": {},
   "outputs": [],
   "source": [
    "merged_df = pd.concat([true_raw, fake_raw], ignore_index=True)"
   ]
  },
  {
   "cell_type": "code",
   "execution_count": 15,
   "metadata": {},
   "outputs": [],
   "source": [
    "df = merged_df.copy()"
   ]
  },
  {
   "cell_type": "markdown",
   "metadata": {},
   "source": [
    "### Shuffling the dataframe rows."
   ]
  },
  {
   "cell_type": "code",
   "execution_count": 16,
   "metadata": {},
   "outputs": [],
   "source": [
    "def shuffle(dataframe, random_state = 100):\n",
    "    dd = dataframe.copy()\n",
    "    dd = dd.sample(frac = 1, random_state = 100)\n",
    "    dd.reset_index(drop = True, inplace = True)\n",
    "    return dd"
   ]
  },
  {
   "cell_type": "code",
   "execution_count": 17,
   "metadata": {},
   "outputs": [
    {
     "data": {
      "text/html": [
       "<div>\n",
       "<style scoped>\n",
       "    .dataframe tbody tr th:only-of-type {\n",
       "        vertical-align: middle;\n",
       "    }\n",
       "\n",
       "    .dataframe tbody tr th {\n",
       "        vertical-align: top;\n",
       "    }\n",
       "\n",
       "    .dataframe thead th {\n",
       "        text-align: right;\n",
       "    }\n",
       "</style>\n",
       "<table border=\"1\" class=\"dataframe\">\n",
       "  <thead>\n",
       "    <tr style=\"text-align: right;\">\n",
       "      <th></th>\n",
       "      <th>title</th>\n",
       "      <th>text</th>\n",
       "      <th>subject</th>\n",
       "      <th>date</th>\n",
       "      <th>label</th>\n",
       "    </tr>\n",
       "  </thead>\n",
       "  <tbody>\n",
       "    <tr>\n",
       "      <th>0</th>\n",
       "      <td>China, Pakistan to look at including Afghanist...</td>\n",
       "      <td>BEIJING (Reuters) - China and Pakistan will lo...</td>\n",
       "      <td>worldnews</td>\n",
       "      <td>December 26, 2017</td>\n",
       "      <td>1</td>\n",
       "    </tr>\n",
       "    <tr>\n",
       "      <th>1</th>\n",
       "      <td>10 REASONS A VOTE RECOUNT Is A Really Bad Idea...</td>\n",
       "      <td>Watch Jill Stein explain why she s working to ...</td>\n",
       "      <td>left-news</td>\n",
       "      <td>Nov 27, 2016</td>\n",
       "      <td>0</td>\n",
       "    </tr>\n",
       "    <tr>\n",
       "      <th>2</th>\n",
       "      <td>DEBBIE WASSERMAN SCHULTZ Planned To Continue P...</td>\n",
       "      <td>Democratic Rep. Debbie Wasserman Schultz seemi...</td>\n",
       "      <td>politics</td>\n",
       "      <td>Jul 29, 2017</td>\n",
       "      <td>0</td>\n",
       "    </tr>\n",
       "    <tr>\n",
       "      <th>3</th>\n",
       "      <td>FINALLY: Sheriff Joe Ruled In Contempt Over R...</td>\n",
       "      <td>A Maricopa Country judge has finally stood up ...</td>\n",
       "      <td>News</td>\n",
       "      <td>May 14, 2016</td>\n",
       "      <td>0</td>\n",
       "    </tr>\n",
       "    <tr>\n",
       "      <th>4</th>\n",
       "      <td>Obama says he does not think FBI's Comey is tr...</td>\n",
       "      <td>WASHINGTON (Reuters) - President Barack Obama ...</td>\n",
       "      <td>politicsNews</td>\n",
       "      <td>November 5, 2016</td>\n",
       "      <td>1</td>\n",
       "    </tr>\n",
       "    <tr>\n",
       "      <th>5</th>\n",
       "      <td>TRUMP WAS RIGHT! Why The Heck Is This Liberal ...</td>\n",
       "      <td>If you watch CNBC at all you know John Harwood...</td>\n",
       "      <td>politics</td>\n",
       "      <td>Oct 28, 2015</td>\n",
       "      <td>0</td>\n",
       "    </tr>\n",
       "    <tr>\n",
       "      <th>6</th>\n",
       "      <td>LATE NIGHT HOST Goes Low In Anti-Trump Rant Wi...</td>\n",
       "      <td>COLBERT   LANGUAGE WARNING! This late night ho...</td>\n",
       "      <td>politics</td>\n",
       "      <td>May 2, 2017</td>\n",
       "      <td>0</td>\n",
       "    </tr>\n",
       "    <tr>\n",
       "      <th>7</th>\n",
       "      <td>South Korea's Moon asks Russia to continue sup...</td>\n",
       "      <td>VLADIVOSTOK, Russia (Reuters) - South Korean P...</td>\n",
       "      <td>worldnews</td>\n",
       "      <td>September 7, 2017</td>\n",
       "      <td>1</td>\n",
       "    </tr>\n",
       "    <tr>\n",
       "      <th>8</th>\n",
       "      <td>YOU’LL NEVER BELIEVE WHICH REPUBLICAN JUST CAL...</td>\n",
       "      <td>What kind of leader speaks like this? It s obv...</td>\n",
       "      <td>politics</td>\n",
       "      <td>Aug 27, 2015</td>\n",
       "      <td>0</td>\n",
       "    </tr>\n",
       "    <tr>\n",
       "      <th>9</th>\n",
       "      <td>Alabama Senate election winner due to be certi...</td>\n",
       "      <td>WASHINGTON (Reuters) - The outcome of Alabama’...</td>\n",
       "      <td>politicsNews</td>\n",
       "      <td>November 18, 2017</td>\n",
       "      <td>1</td>\n",
       "    </tr>\n",
       "    <tr>\n",
       "      <th>10</th>\n",
       "      <td>Trump slow to implement Russia, Iran, North Ko...</td>\n",
       "      <td>WASHINGTON (Reuters) - Two months after signin...</td>\n",
       "      <td>politicsNews</td>\n",
       "      <td>September 29, 2017</td>\n",
       "      <td>1</td>\n",
       "    </tr>\n",
       "    <tr>\n",
       "      <th>11</th>\n",
       "      <td>MUST READ: I’m Still Trying To Figure Out How ...</td>\n",
       "      <td>Once you ve read this list, you re going to wa...</td>\n",
       "      <td>left-news</td>\n",
       "      <td>Nov 17, 2017</td>\n",
       "      <td>0</td>\n",
       "    </tr>\n",
       "    <tr>\n",
       "      <th>12</th>\n",
       "      <td>U.S. voters deliver mixed results on gun contr...</td>\n",
       "      <td>NEW YORK (Reuters) - Voters rendered a split d...</td>\n",
       "      <td>politicsNews</td>\n",
       "      <td>November 8, 2016</td>\n",
       "      <td>1</td>\n",
       "    </tr>\n",
       "    <tr>\n",
       "      <th>13</th>\n",
       "      <td>How Trump's abrupt immigration ban sowed confu...</td>\n",
       "      <td>NEW YORK (Reuters) - After immigration agents ...</td>\n",
       "      <td>politicsNews</td>\n",
       "      <td>January 29, 2017</td>\n",
       "      <td>1</td>\n",
       "    </tr>\n",
       "    <tr>\n",
       "      <th>14</th>\n",
       "      <td>Zimbabwe's Mugabe speech was meant to sanitize...</td>\n",
       "      <td>HARARE (Reuters) - Zimbabwe President Robert M...</td>\n",
       "      <td>worldnews</td>\n",
       "      <td>November 20, 2017</td>\n",
       "      <td>1</td>\n",
       "    </tr>\n",
       "    <tr>\n",
       "      <th>15</th>\n",
       "      <td>About 30 killed when train derails, catches fi...</td>\n",
       "      <td>KINSHASA (Reuters) - About 30 people were kill...</td>\n",
       "      <td>worldnews</td>\n",
       "      <td>November 13, 2017</td>\n",
       "      <td>1</td>\n",
       "    </tr>\n",
       "    <tr>\n",
       "      <th>16</th>\n",
       "      <td>HOW A SIMPLE GLASS OF WATER Could Expose The T...</td>\n",
       "      <td>Every American needs to consider this new evid...</td>\n",
       "      <td>politics</td>\n",
       "      <td>Sep 6, 2016</td>\n",
       "      <td>0</td>\n",
       "    </tr>\n",
       "    <tr>\n",
       "      <th>17</th>\n",
       "      <td>THE SIMPSONS Destroy The Idiocy Of The Politic...</td>\n",
       "      <td>The setting for this episode is Yale Universit...</td>\n",
       "      <td>left-news</td>\n",
       "      <td>Apr 18, 2017</td>\n",
       "      <td>0</td>\n",
       "    </tr>\n",
       "    <tr>\n",
       "      <th>18</th>\n",
       "      <td>UNREAL! PRO-CUBA TRAVEL AT PBS AND NBC: “Cuba ...</td>\n",
       "      <td>BELOW ARE TWO EXAMPLES OF THE PRO-CUBA SENTIME...</td>\n",
       "      <td>left-news</td>\n",
       "      <td>May 5, 2016</td>\n",
       "      <td>0</td>\n",
       "    </tr>\n",
       "    <tr>\n",
       "      <th>19</th>\n",
       "      <td>Merkel settles migrant row with allies to purs...</td>\n",
       "      <td>BERLIN (Reuters) - German Chancellor Angela Me...</td>\n",
       "      <td>worldnews</td>\n",
       "      <td>October 8, 2017</td>\n",
       "      <td>1</td>\n",
       "    </tr>\n",
       "  </tbody>\n",
       "</table>\n",
       "</div>"
      ],
      "text/plain": [
       "                                                title  \\\n",
       "0   China, Pakistan to look at including Afghanist...   \n",
       "1   10 REASONS A VOTE RECOUNT Is A Really Bad Idea...   \n",
       "2   DEBBIE WASSERMAN SCHULTZ Planned To Continue P...   \n",
       "3    FINALLY: Sheriff Joe Ruled In Contempt Over R...   \n",
       "4   Obama says he does not think FBI's Comey is tr...   \n",
       "5   TRUMP WAS RIGHT! Why The Heck Is This Liberal ...   \n",
       "6   LATE NIGHT HOST Goes Low In Anti-Trump Rant Wi...   \n",
       "7   South Korea's Moon asks Russia to continue sup...   \n",
       "8   YOU’LL NEVER BELIEVE WHICH REPUBLICAN JUST CAL...   \n",
       "9   Alabama Senate election winner due to be certi...   \n",
       "10  Trump slow to implement Russia, Iran, North Ko...   \n",
       "11  MUST READ: I’m Still Trying To Figure Out How ...   \n",
       "12  U.S. voters deliver mixed results on gun contr...   \n",
       "13  How Trump's abrupt immigration ban sowed confu...   \n",
       "14  Zimbabwe's Mugabe speech was meant to sanitize...   \n",
       "15  About 30 killed when train derails, catches fi...   \n",
       "16  HOW A SIMPLE GLASS OF WATER Could Expose The T...   \n",
       "17  THE SIMPSONS Destroy The Idiocy Of The Politic...   \n",
       "18  UNREAL! PRO-CUBA TRAVEL AT PBS AND NBC: “Cuba ...   \n",
       "19  Merkel settles migrant row with allies to purs...   \n",
       "\n",
       "                                                 text       subject  \\\n",
       "0   BEIJING (Reuters) - China and Pakistan will lo...     worldnews   \n",
       "1   Watch Jill Stein explain why she s working to ...     left-news   \n",
       "2   Democratic Rep. Debbie Wasserman Schultz seemi...      politics   \n",
       "3   A Maricopa Country judge has finally stood up ...          News   \n",
       "4   WASHINGTON (Reuters) - President Barack Obama ...  politicsNews   \n",
       "5   If you watch CNBC at all you know John Harwood...      politics   \n",
       "6   COLBERT   LANGUAGE WARNING! This late night ho...      politics   \n",
       "7   VLADIVOSTOK, Russia (Reuters) - South Korean P...     worldnews   \n",
       "8   What kind of leader speaks like this? It s obv...      politics   \n",
       "9   WASHINGTON (Reuters) - The outcome of Alabama’...  politicsNews   \n",
       "10  WASHINGTON (Reuters) - Two months after signin...  politicsNews   \n",
       "11  Once you ve read this list, you re going to wa...     left-news   \n",
       "12  NEW YORK (Reuters) - Voters rendered a split d...  politicsNews   \n",
       "13  NEW YORK (Reuters) - After immigration agents ...  politicsNews   \n",
       "14  HARARE (Reuters) - Zimbabwe President Robert M...     worldnews   \n",
       "15  KINSHASA (Reuters) - About 30 people were kill...     worldnews   \n",
       "16  Every American needs to consider this new evid...      politics   \n",
       "17  The setting for this episode is Yale Universit...     left-news   \n",
       "18  BELOW ARE TWO EXAMPLES OF THE PRO-CUBA SENTIME...     left-news   \n",
       "19  BERLIN (Reuters) - German Chancellor Angela Me...     worldnews   \n",
       "\n",
       "                   date  label  \n",
       "0    December 26, 2017       1  \n",
       "1          Nov 27, 2016      0  \n",
       "2          Jul 29, 2017      0  \n",
       "3          May 14, 2016      0  \n",
       "4     November 5, 2016       1  \n",
       "5          Oct 28, 2015      0  \n",
       "6           May 2, 2017      0  \n",
       "7    September 7, 2017       1  \n",
       "8          Aug 27, 2015      0  \n",
       "9    November 18, 2017       1  \n",
       "10  September 29, 2017       1  \n",
       "11         Nov 17, 2017      0  \n",
       "12    November 8, 2016       1  \n",
       "13    January 29, 2017       1  \n",
       "14   November 20, 2017       1  \n",
       "15   November 13, 2017       1  \n",
       "16          Sep 6, 2016      0  \n",
       "17         Apr 18, 2017      0  \n",
       "18          May 5, 2016      0  \n",
       "19     October 8, 2017       1  "
      ]
     },
     "execution_count": 17,
     "metadata": {},
     "output_type": "execute_result"
    }
   ],
   "source": [
    "df = shuffle(df)\n",
    "df.head(20)"
   ]
  },
  {
   "cell_type": "code",
   "execution_count": 18,
   "metadata": {},
   "outputs": [
    {
     "data": {
      "text/plain": [
       "(44898, 5)"
      ]
     },
     "execution_count": 18,
     "metadata": {},
     "output_type": "execute_result"
    }
   ],
   "source": [
    "df.shape"
   ]
  },
  {
   "cell_type": "markdown",
   "metadata": {},
   "source": [
    "### Data Visualization."
   ]
  },
  {
   "cell_type": "code",
   "execution_count": 19,
   "metadata": {},
   "outputs": [
    {
     "data": {
      "image/png": "[encoded data removed]",
      "text/plain": [
       "<Figure size 1440x864 with 1 Axes>"
      ]
     },
     "metadata": {
      "needs_background": "light"
     },
     "output_type": "display_data"
    }
   ],
   "source": [
    "plt.figure(figsize=(20,12))\n",
    "sns.set(style = 'whitegrid', font_scale = 1.2)\n",
    "\n",
    "sns.countplot(df['subject'], hue = df['label'])\n",
    "plt.show()"
   ]
  },
  {
   "cell_type": "markdown",
   "metadata": {},
   "source": [
    "### Cleaning the text."
   ]
  },
  {
   "cell_type": "code",
   "execution_count": 20,
   "metadata": {},
   "outputs": [],
   "source": [
    "import re\n",
    "from nltk.corpus import stopwords\n",
    "from nltk.stem.porter import PorterStemmer"
   ]
  },
  {
   "cell_type": "code",
   "execution_count": 21,
   "metadata": {},
   "outputs": [
    {
     "name": "stderr",
     "output_type": "stream",
     "text": [
      "[nltk_data] Downloading package stopwords to\n",
      "[nltk_data]     C:\\Users\\Habeeb\\AppData\\Roaming\\nltk_data...\n",
      "[nltk_data]   Package stopwords is already up-to-date!\n"
     ]
    },
    {
     "data": {
      "text/plain": [
       "True"
      ]
     },
     "execution_count": 21,
     "metadata": {},
     "output_type": "execute_result"
    }
   ],
   "source": [
    "nltk.download('stopwords')"
   ]
  },
  {
   "cell_type": "code",
   "execution_count": 22,
   "metadata": {},
   "outputs": [],
   "source": [
    "def clean_data(text):\n",
    "    processed = re.sub('[^a-zA-Z0-9]', ' ' , text, flags = re.IGNORECASE)\n",
    "    # We can use '\\W' (non - alphanumeric character or non - word character) instead of '[^a-zA-Z]'.\n",
    "    processed = processed.replace('  ', ' ')\n",
    "    processed = processed.replace('   ', ' ')\n",
    "    processed = processed.replace('    ', ' ')\n",
    "    processed = processed.replace('u s', 'united states')\n",
    "    #Convert into LowerCase.\n",
    "    processed = processed.lower()\n",
    "    \n",
    "    #Stemming.\n",
    "    '''ps = PorterStemmer()\n",
    "    processed = processed.split()\n",
    "    processed = [ps.stem(word) for word in processed if not word in set(stopwords.words('english'))]\n",
    "    '''\n",
    "    return processed"
   ]
  },
  {
   "cell_type": "code",
   "execution_count": 23,
   "metadata": {},
   "outputs": [],
   "source": [
    "df['title_processed'] = df['title'].apply(lambda x: clean_data(x))\n",
    "df['text_processed'] = df['text'].apply(lambda x: clean_data(x))"
   ]
  },
  {
   "cell_type": "markdown",
   "metadata": {},
   "source": [
    "### Making a column named 'month'."
   ]
  },
  {
   "cell_type": "code",
   "execution_count": 24,
   "metadata": {},
   "outputs": [],
   "source": [
    "df['month'] = df['date'].apply(lambda mydate: re.findall('[a-zA-Z]{3,}', mydate)[0])"
   ]
  },
  {
   "cell_type": "markdown",
   "metadata": {},
   "source": [
    "### Taking only the first three letters of the month names."
   ]
  },
  {
   "cell_type": "code",
   "execution_count": 25,
   "metadata": {},
   "outputs": [],
   "source": [
    "df['month'] =df['month'].apply(lambda mymonth:  mymonth[:3])"
   ]
  },
  {
   "cell_type": "code",
   "execution_count": 26,
   "metadata": {},
   "outputs": [
    {
     "data": {
      "text/html": [
       "<div>\n",
       "<style scoped>\n",
       "    .dataframe tbody tr th:only-of-type {\n",
       "        vertical-align: middle;\n",
       "    }\n",
       "\n",
       "    .dataframe tbody tr th {\n",
       "        vertical-align: top;\n",
       "    }\n",
       "\n",
       "    .dataframe thead th {\n",
       "        text-align: right;\n",
       "    }\n",
       "</style>\n",
       "<table border=\"1\" class=\"dataframe\">\n",
       "  <thead>\n",
       "    <tr style=\"text-align: right;\">\n",
       "      <th></th>\n",
       "      <th>title</th>\n",
       "      <th>text</th>\n",
       "      <th>subject</th>\n",
       "      <th>date</th>\n",
       "      <th>label</th>\n",
       "      <th>title_processed</th>\n",
       "      <th>text_processed</th>\n",
       "      <th>month</th>\n",
       "    </tr>\n",
       "  </thead>\n",
       "  <tbody>\n",
       "    <tr>\n",
       "      <th>0</th>\n",
       "      <td>China, Pakistan to look at including Afghanist...</td>\n",
       "      <td>BEIJING (Reuters) - China and Pakistan will lo...</td>\n",
       "      <td>worldnews</td>\n",
       "      <td>December 26, 2017</td>\n",
       "      <td>1</td>\n",
       "      <td>china pakistan to look at including afghanista...</td>\n",
       "      <td>beijing reuters  china and pakistan will look ...</td>\n",
       "      <td>Dec</td>\n",
       "    </tr>\n",
       "    <tr>\n",
       "      <th>1</th>\n",
       "      <td>10 REASONS A VOTE RECOUNT Is A Really Bad Idea...</td>\n",
       "      <td>Watch Jill Stein explain why she s working to ...</td>\n",
       "      <td>left-news</td>\n",
       "      <td>Nov 27, 2016</td>\n",
       "      <td>0</td>\n",
       "      <td>10 reasons a vote recount is a really bad idea...</td>\n",
       "      <td>watch jill stein explain why she s working to ...</td>\n",
       "      <td>Nov</td>\n",
       "    </tr>\n",
       "  </tbody>\n",
       "</table>\n",
       "</div>"
      ],
      "text/plain": [
       "                                               title  \\\n",
       "0  China, Pakistan to look at including Afghanist...   \n",
       "1  10 REASONS A VOTE RECOUNT Is A Really Bad Idea...   \n",
       "\n",
       "                                                text    subject  \\\n",
       "0  BEIJING (Reuters) - China and Pakistan will lo...  worldnews   \n",
       "1  Watch Jill Stein explain why she s working to ...  left-news   \n",
       "\n",
       "                 date  label  \\\n",
       "0  December 26, 2017       1   \n",
       "1        Nov 27, 2016      0   \n",
       "\n",
       "                                     title_processed  \\\n",
       "0  china pakistan to look at including afghanista...   \n",
       "1  10 reasons a vote recount is a really bad idea...   \n",
       "\n",
       "                                      text_processed month  \n",
       "0  beijing reuters  china and pakistan will look ...   Dec  \n",
       "1  watch jill stein explain why she s working to ...   Nov  "
      ]
     },
     "execution_count": 26,
     "metadata": {},
     "output_type": "execute_result"
    }
   ],
   "source": [
    "df.head(2)"
   ]
  },
  {
   "cell_type": "markdown",
   "metadata": {},
   "source": [
    "<hr>"
   ]
  },
  {
   "cell_type": "markdown",
   "metadata": {},
   "source": [
    "# Part I:   Using the Titles of the news for the classification."
   ]
  },
  {
   "cell_type": "markdown",
   "metadata": {},
   "source": [
    "### Get independent feature."
   ]
  },
  {
   "cell_type": "code",
   "execution_count": 27,
   "metadata": {},
   "outputs": [],
   "source": [
    "X = df['title_processed'].iloc[:].values"
   ]
  },
  {
   "cell_type": "markdown",
   "metadata": {},
   "source": [
    "### Get dependent feature."
   ]
  },
  {
   "cell_type": "code",
   "execution_count": 28,
   "metadata": {},
   "outputs": [],
   "source": [
    "y = df['label'].iloc[:].values"
   ]
  },
  {
   "cell_type": "markdown",
   "metadata": {},
   "source": [
    "## 1.    Using <b>TFIDF</b> vectorizer to get independent features."
   ]
  },
  {
   "cell_type": "code",
   "execution_count": 29,
   "metadata": {},
   "outputs": [],
   "source": [
    "from sklearn.feature_extraction.text import TfidfVectorizer as TFIDF"
   ]
  },
  {
   "cell_type": "code",
   "execution_count": 30,
   "metadata": {},
   "outputs": [],
   "source": [
    "tfidf = TFIDF(stop_words= set(stopwords.words('english')),\n",
    "              max_features=10000,\n",
    "              ngram_range=(1,3))"
   ]
  },
  {
   "cell_type": "code",
   "execution_count": 31,
   "metadata": {},
   "outputs": [],
   "source": [
    "X_vectorized = tfidf.fit_transform(X).toarray()"
   ]
  },
  {
   "cell_type": "markdown",
   "metadata": {},
   "source": [
    "### Train - Test split."
   ]
  },
  {
   "cell_type": "code",
   "execution_count": 32,
   "metadata": {},
   "outputs": [],
   "source": [
    "from sklearn.model_selection import train_test_split"
   ]
  },
  {
   "cell_type": "code",
   "execution_count": 33,
   "metadata": {},
   "outputs": [],
   "source": [
    "X_train, X_test, y_train, y_test = train_test_split(X_vectorized, y, test_size = .25, random_state = 100)"
   ]
  },
  {
   "cell_type": "markdown",
   "metadata": {},
   "source": [
    "### 1.a.    Classification: Multinomial Bayes."
   ]
  },
  {
   "cell_type": "code",
   "execution_count": 34,
   "metadata": {},
   "outputs": [],
   "source": [
    "from sklearn.naive_bayes import MultinomialNB\n",
    "classifier=MultinomialNB(alpha = 1.0)"
   ]
  },
  {
   "cell_type": "code",
   "execution_count": 35,
   "metadata": {},
   "outputs": [
    {
     "data": {
      "text/plain": [
       "MultinomialNB()"
      ]
     },
     "execution_count": 35,
     "metadata": {},
     "output_type": "execute_result"
    }
   ],
   "source": [
    "classifier.fit(X_train, y_train)"
   ]
  },
  {
   "cell_type": "code",
   "execution_count": 36,
   "metadata": {},
   "outputs": [],
   "source": [
    "predictions = classifier.predict(X_test)"
   ]
  },
  {
   "cell_type": "markdown",
   "metadata": {},
   "source": [
    "### Function: Confusion Matrix."
   ]
  },
  {
   "cell_type": "code",
   "execution_count": 37,
   "metadata": {},
   "outputs": [],
   "source": [
    "from sklearn import metrics\n",
    "import itertools"
   ]
  },
  {
   "cell_type": "code",
   "execution_count": 38,
   "metadata": {},
   "outputs": [],
   "source": [
    "def plot_confusion_matrix(cm, classes,\n",
    "                          normalize=False,\n",
    "                          title='Confusion matrix',\n",
    "                          cmap=plt.cm.Blues):\n",
    "    \"\"\"\n",
    "    See full source and example: \n",
    "    http://scikit-learn.org/stable/auto_examples/model_selection/plot_confusion_matrix.html\n",
    "    \n",
    "    This function prints and plots the confusion matrix.\n",
    "    Normalization can be applied by setting `normalize=True`.\n",
    "    \"\"\"\n",
    "    plt.imshow(cm, interpolation='nearest', cmap=cmap)\n",
    "    plt.title(title)\n",
    "    plt.colorbar()\n",
    "    tick_marks = np.arange(len(classes))\n",
    "    plt.xticks(tick_marks, classes, rotation=45)\n",
    "    plt.yticks(tick_marks, classes)\n",
    "\n",
    "    if normalize:\n",
    "        cm = cm.astype('float') / cm.sum(axis=1)[:, np.newaxis]\n",
    "        print(\"Normalized confusion matrix\")\n",
    "    else:\n",
    "        print('Confusion matrix, without normalization')\n",
    "\n",
    "    thresh = cm.max() / 2.\n",
    "    for i, j in itertools.product(range(cm.shape[0]), range(cm.shape[1])):\n",
    "        plt.text(j, i, cm[i, j],\n",
    "                 horizontalalignment=\"center\",\n",
    "                 color=\"white\" if cm[i, j] > thresh else \"black\")\n",
    "\n",
    "    plt.tight_layout()\n",
    "    plt.ylabel('True label')\n",
    "    plt.xlabel('Predicted label')\n"
   ]
  },
  {
   "cell_type": "code",
   "execution_count": 39,
   "metadata": {},
   "outputs": [],
   "source": [
    "cm = metrics.confusion_matrix(y_test, predictions)"
   ]
  },
  {
   "cell_type": "code",
   "execution_count": 40,
   "metadata": {},
   "outputs": [
    {
     "name": "stdout",
     "output_type": "stream",
     "text": [
      "Confusion matrix, without normalization\n"
     ]
    },
    {
     "data": {
      "image/png": "[encoded data removed]",
      "text/plain": [
       "<Figure size 432x288 with 2 Axes>"
      ]
     },
     "metadata": {},
     "output_type": "display_data"
    }
   ],
   "source": [
    "plot_confusion_matrix(cm, classes=['Fake', 'Real'])"
   ]
  },
  {
   "cell_type": "markdown",
   "metadata": {},
   "source": [
    "### Accuracy Score:"
   ]
  },
  {
   "cell_type": "code",
   "execution_count": 41,
   "metadata": {},
   "outputs": [],
   "source": [
    "def accuracy_check(print_values = True):\n",
    "    if print_values == True:\n",
    "        print('Accuracy (in %) = ',round(float(metrics.accuracy_score(y_test, predictions) ) *100, 2), '%')\n",
    "        print('ROC - AUC Score (in %) = ',round(float(metrics.roc_auc_score(y_test, predictions) ) *100, 2), '%')\n",
    "        print('F1 - Score (in %) = ',round(float(metrics.f1_score(y_test, predictions) ) *100, 2), '%')\n",
    "\n",
    "    '''acc_dict = dict()\n",
    "    acc_dict['Accuracy Score'] = metrics.accuracy_score(y_test, predictions\n",
    "    acc_dict['ROC - AUC Score'] = metrics.roc_auc_score(y_test, predictions)\n",
    "    acc_dict['F1 - Score'] = metrics.f1_score(y_test, predictions) '''   \n",
    "    return (round(float(metrics.accuracy_score(y_test, predictions) ) *100, 2),\n",
    "            round(float(metrics.roc_auc_score(y_test, predictions) ) *100, 2),\n",
    "            round(float(metrics.f1_score(y_test, predictions) ) *100, 2)\n",
    "           )"
   ]
  },
  {
   "cell_type": "code",
   "execution_count": 42,
   "metadata": {},
   "outputs": [
    {
     "name": "stdout",
     "output_type": "stream",
     "text": [
      "Accuracy (in %) =  93.69 %\n",
      "ROC - AUC Score (in %) =  93.61 %\n",
      "F1 - Score (in %) =  93.23 %\n"
     ]
    },
    {
     "data": {
      "text/plain": [
       "(93.69, 93.61, 93.23)"
      ]
     },
     "execution_count": 42,
     "metadata": {},
     "output_type": "execute_result"
    }
   ],
   "source": [
    "accuracy_check(True)"
   ]
  },
  {
   "cell_type": "code",
   "execution_count": 43,
   "metadata": {},
   "outputs": [],
   "source": [
    "title_naive_bayes_tfidf = dict()\n",
    "title_naive_bayes_tfidf['accuracy'], title_naive_bayes_tfidf['roc_auc'], title_naive_bayes_tfidf['f1_score'] = accuracy_check(False)"
   ]
  },
  {
   "cell_type": "markdown",
   "metadata": {},
   "source": [
    "### 1.b.    Classification: Logistic Regression."
   ]
  },
  {
   "cell_type": "code",
   "execution_count": 44,
   "metadata": {},
   "outputs": [],
   "source": [
    "from sklearn.linear_model import LogisticRegression\n",
    "\n",
    "classifier = LogisticRegression(C= 0.1)"
   ]
  },
  {
   "cell_type": "code",
   "execution_count": 45,
   "metadata": {},
   "outputs": [
    {
     "data": {
      "text/plain": [
       "LogisticRegression(C=0.1)"
      ]
     },
     "execution_count": 45,
     "metadata": {},
     "output_type": "execute_result"
    }
   ],
   "source": [
    "classifier.fit(X_train, y_train)"
   ]
  },
  {
   "cell_type": "code",
   "execution_count": 46,
   "metadata": {},
   "outputs": [],
   "source": [
    "predictions = classifier.predict(X_test)"
   ]
  },
  {
   "cell_type": "markdown",
   "metadata": {},
   "source": [
    "### Confusion Matrix."
   ]
  },
  {
   "cell_type": "code",
   "execution_count": 47,
   "metadata": {},
   "outputs": [
    {
     "name": "stdout",
     "output_type": "stream",
     "text": [
      "Confusion matrix, without normalization\n"
     ]
    },
    {
     "data": {
      "image/png": "[encoded data removed]",
      "text/plain": [
       "<Figure size 432x288 with 2 Axes>"
      ]
     },
     "metadata": {},
     "output_type": "display_data"
    }
   ],
   "source": [
    "cm = metrics.confusion_matrix(y_test, predictions)\n",
    "\n",
    "plot_confusion_matrix(cm, classes=['Fake', 'Real'])"
   ]
  },
  {
   "cell_type": "code",
   "execution_count": 48,
   "metadata": {
    "scrolled": true
   },
   "outputs": [
    {
     "name": "stdout",
     "output_type": "stream",
     "text": [
      "Accuracy (in %) =  92.93 %\n",
      "ROC - AUC Score (in %) =  92.98 %\n",
      "F1 - Score (in %) =  92.61 %\n"
     ]
    },
    {
     "data": {
      "text/plain": [
       "(92.93, 92.98, 92.61)"
      ]
     },
     "execution_count": 48,
     "metadata": {},
     "output_type": "execute_result"
    }
   ],
   "source": [
    "accuracy_check()"
   ]
  },
  {
   "cell_type": "code",
   "execution_count": 49,
   "metadata": {},
   "outputs": [],
   "source": [
    "title_log_reg_tfidf = dict()\n",
    "title_log_reg_tfidf['accuracy'], title_log_reg_tfidf['roc_auc'], title_log_reg_tfidf['f1_score'] = accuracy_check(False)"
   ]
  },
  {
   "cell_type": "markdown",
   "metadata": {},
   "source": [
    "<hr><hr>"
   ]
  },
  {
   "cell_type": "markdown",
   "metadata": {},
   "source": [
    "## 2.    Using <b>Count Vectorizer</b> to get independent features."
   ]
  },
  {
   "cell_type": "code",
   "execution_count": 50,
   "metadata": {},
   "outputs": [],
   "source": [
    "from sklearn.feature_extraction.text import CountVectorizer as CV"
   ]
  },
  {
   "cell_type": "code",
   "execution_count": 51,
   "metadata": {},
   "outputs": [],
   "source": [
    "cv = CV(stop_words= set(stopwords.words('english')),\n",
    "              max_features=10000,\n",
    "              ngram_range=(1,3))"
   ]
  },
  {
   "cell_type": "code",
   "execution_count": 52,
   "metadata": {},
   "outputs": [],
   "source": [
    "X_vectorized = cv.fit_transform(X).toarray()"
   ]
  },
  {
   "cell_type": "markdown",
   "metadata": {},
   "source": [
    "### Train - Test split."
   ]
  },
  {
   "cell_type": "code",
   "execution_count": 53,
   "metadata": {},
   "outputs": [],
   "source": [
    "X_train, X_test, y_train, y_test = train_test_split(X_vectorized, y, test_size = .25, random_state = 100)"
   ]
  },
  {
   "cell_type": "markdown",
   "metadata": {},
   "source": [
    "### 2.a.    Classification: Multinomial Bayes."
   ]
  },
  {
   "cell_type": "code",
   "execution_count": 104,
   "metadata": {},
   "outputs": [],
   "source": [
    "from sklearn.naive_bayes import MultinomialNB\n",
    "classifier=MultinomialNB(alpha = 1.0)"
   ]
  },
  {
   "cell_type": "code",
   "execution_count": 105,
   "metadata": {},
   "outputs": [
    {
     "data": {
      "text/plain": [
       "MultinomialNB()"
      ]
     },
     "execution_count": 105,
     "metadata": {},
     "output_type": "execute_result"
    }
   ],
   "source": [
    "classifier.fit(X_train, y_train)"
   ]
  },
  {
   "cell_type": "code",
   "execution_count": 106,
   "metadata": {},
   "outputs": [],
   "source": [
    "predictions = classifier.predict(X_test)"
   ]
  },
  {
   "cell_type": "markdown",
   "metadata": {},
   "source": [
    "### Confusion Matrix."
   ]
  },
  {
   "cell_type": "code",
   "execution_count": 107,
   "metadata": {},
   "outputs": [
    {
     "name": "stdout",
     "output_type": "stream",
     "text": [
      "Confusion matrix, without normalization\n"
     ]
    },
    {
     "data": {
      "image/png": "[encoded data removed]",
      "text/plain": [
       "<Figure size 432x288 with 2 Axes>"
      ]
     },
     "metadata": {},
     "output_type": "display_data"
    }
   ],
   "source": [
    "cm = metrics.confusion_matrix(y_test, predictions)\n",
    "\n",
    "plot_confusion_matrix(cm, classes=['Fake', 'Real'])"
   ]
  },
  {
   "cell_type": "code",
   "execution_count": 108,
   "metadata": {},
   "outputs": [
    {
     "name": "stdout",
     "output_type": "stream",
     "text": [
      "Accuracy (in %) =  96.49 %\n",
      "ROC - AUC Score (in %) =  96.52 %\n",
      "F1 - Score (in %) =  96.3 %\n"
     ]
    },
    {
     "data": {
      "text/plain": [
       "(96.49, 96.52, 96.3)"
      ]
     },
     "execution_count": 108,
     "metadata": {},
     "output_type": "execute_result"
    }
   ],
   "source": [
    "accuracy_check()"
   ]
  },
  {
   "cell_type": "code",
   "execution_count": 109,
   "metadata": {},
   "outputs": [],
   "source": [
    "title_naive_bayes_cv = dict()\n",
    "title_naive_bayes_cv['accuracy'], title_naive_bayes_cv['roc_auc'], title_naive_bayes_cv['f1_score'] = accuracy_check(False)"
   ]
  },
  {
   "cell_type": "markdown",
   "metadata": {},
   "source": [
    "### 2.b.    Classification: Logistic Regression."
   ]
  },
  {
   "cell_type": "code",
   "execution_count": 60,
   "metadata": {},
   "outputs": [],
   "source": [
    "from sklearn.linear_model import LogisticRegression\n",
    "\n",
    "classifier = LogisticRegression(C= 0.1)"
   ]
  },
  {
   "cell_type": "code",
   "execution_count": 61,
   "metadata": {},
   "outputs": [],
   "source": [
    "classifier.fit(X_train, y_train)\n",
    "\n",
    "predictions = classifier.predict(X_test)"
   ]
  },
  {
   "cell_type": "markdown",
   "metadata": {},
   "source": [
    "### Confusion Matrix."
   ]
  },
  {
   "cell_type": "code",
   "execution_count": 62,
   "metadata": {},
   "outputs": [
    {
     "name": "stdout",
     "output_type": "stream",
     "text": [
      "Confusion matrix, without normalization\n"
     ]
    },
    {
     "data": {
      "image/png": "[encoded data removed]",
      "text/plain": [
       "<Figure size 432x288 with 2 Axes>"
      ]
     },
     "metadata": {},
     "output_type": "display_data"
    }
   ],
   "source": [
    "cm = metrics.confusion_matrix(y_test, predictions)\n",
    "\n",
    "plot_confusion_matrix(cm, classes=['Fake', 'Real'])"
   ]
  },
  {
   "cell_type": "code",
   "execution_count": 63,
   "metadata": {},
   "outputs": [
    {
     "name": "stdout",
     "output_type": "stream",
     "text": [
      "Accuracy (in %) =  93.95 %\n",
      "ROC - AUC Score (in %) =  94.07 %\n",
      "F1 - Score (in %) =  93.74 %\n"
     ]
    },
    {
     "data": {
      "text/plain": [
       "(93.95, 94.07, 93.74)"
      ]
     },
     "execution_count": 63,
     "metadata": {},
     "output_type": "execute_result"
    }
   ],
   "source": [
    "accuracy_check()"
   ]
  },
  {
   "cell_type": "code",
   "execution_count": 64,
   "metadata": {},
   "outputs": [],
   "source": [
    "title_log_reg_cv = dict()\n",
    "title_log_reg_cv['accuracy'], title_log_reg_cv['roc_auc'], title_log_reg_cv['f1_score'] = accuracy_check(False)"
   ]
  },
  {
   "cell_type": "markdown",
   "metadata": {},
   "source": [
    "<hr><hr><hr>"
   ]
  },
  {
   "cell_type": "markdown",
   "metadata": {},
   "source": [
    "# Part II:   Using the Text of the news for the classification."
   ]
  },
  {
   "cell_type": "markdown",
   "metadata": {},
   "source": [
    "### Get independent feature."
   ]
  },
  {
   "cell_type": "code",
   "execution_count": 65,
   "metadata": {},
   "outputs": [],
   "source": [
    "X = df['text_processed'].iloc[:].values"
   ]
  },
  {
   "cell_type": "markdown",
   "metadata": {},
   "source": [
    "### Get dependent feature."
   ]
  },
  {
   "cell_type": "code",
   "execution_count": 66,
   "metadata": {},
   "outputs": [],
   "source": [
    "y = df['label'].iloc[:].values"
   ]
  },
  {
   "cell_type": "markdown",
   "metadata": {},
   "source": [
    "## 1.    Using <b>TFIDF</b> vectorizer to get independent features."
   ]
  },
  {
   "cell_type": "code",
   "execution_count": 67,
   "metadata": {},
   "outputs": [],
   "source": [
    "from sklearn.feature_extraction.text import TfidfVectorizer as TFIDF\n",
    "\n",
    "tfidf = TFIDF(stop_words= set(stopwords.words('english')),\n",
    "              max_features=10000,\n",
    "              ngram_range=(1,3))"
   ]
  },
  {
   "cell_type": "code",
   "execution_count": 68,
   "metadata": {},
   "outputs": [],
   "source": [
    "X_vectorized = tfidf.fit_transform(X).toarray()"
   ]
  },
  {
   "cell_type": "markdown",
   "metadata": {},
   "source": [
    "### Train - Test split."
   ]
  },
  {
   "cell_type": "code",
   "execution_count": 69,
   "metadata": {},
   "outputs": [],
   "source": [
    "from sklearn.model_selection import train_test_split\n",
    "\n",
    "X_train, X_test, y_train, y_test = train_test_split(X_vectorized, y, test_size = .25, random_state = 100)"
   ]
  },
  {
   "cell_type": "markdown",
   "metadata": {},
   "source": [
    "### 1.a.    Classification: Multinomial Bayes."
   ]
  },
  {
   "cell_type": "code",
   "execution_count": 70,
   "metadata": {},
   "outputs": [],
   "source": [
    "from sklearn.naive_bayes import MultinomialNB\n",
    "classifier=MultinomialNB(alpha = 1.0)"
   ]
  },
  {
   "cell_type": "code",
   "execution_count": 71,
   "metadata": {},
   "outputs": [
    {
     "data": {
      "text/plain": [
       "MultinomialNB()"
      ]
     },
     "execution_count": 71,
     "metadata": {},
     "output_type": "execute_result"
    }
   ],
   "source": [
    "classifier.fit(X_train, y_train)"
   ]
  },
  {
   "cell_type": "code",
   "execution_count": 72,
   "metadata": {},
   "outputs": [],
   "source": [
    "predictions = classifier.predict(X_test)"
   ]
  },
  {
   "cell_type": "markdown",
   "metadata": {},
   "source": [
    "#### Confusion Matrix."
   ]
  },
  {
   "cell_type": "code",
   "execution_count": 73,
   "metadata": {},
   "outputs": [
    {
     "name": "stdout",
     "output_type": "stream",
     "text": [
      "Confusion matrix, without normalization\n"
     ]
    },
    {
     "data": {
      "image/png": "[encoded data removed]",
      "text/plain": [
       "<Figure size 432x288 with 2 Axes>"
      ]
     },
     "metadata": {},
     "output_type": "display_data"
    }
   ],
   "source": [
    "cm = metrics.confusion_matrix(y_test, predictions)\n",
    "\n",
    "plot_confusion_matrix(cm, classes=['Fake', 'Real'])"
   ]
  },
  {
   "cell_type": "markdown",
   "metadata": {},
   "source": [
    "### Accuracy Score:"
   ]
  },
  {
   "cell_type": "code",
   "execution_count": 74,
   "metadata": {},
   "outputs": [
    {
     "name": "stdout",
     "output_type": "stream",
     "text": [
      "Accuracy (in %) =  95.48 %\n",
      "ROC - AUC Score (in %) =  95.48 %\n",
      "F1 - Score (in %) =  95.22 %\n"
     ]
    },
    {
     "data": {
      "text/plain": [
       "(95.48, 95.48, 95.22)"
      ]
     },
     "execution_count": 74,
     "metadata": {},
     "output_type": "execute_result"
    }
   ],
   "source": [
    "accuracy_check(True)"
   ]
  },
  {
   "cell_type": "code",
   "execution_count": 75,
   "metadata": {},
   "outputs": [],
   "source": [
    "text_naive_bayes_tfidf = dict()\n",
    "text_naive_bayes_tfidf['accuracy'], text_naive_bayes_tfidf['roc_auc'], text_naive_bayes_tfidf['f1_score'] = accuracy_check(False)"
   ]
  },
  {
   "cell_type": "markdown",
   "metadata": {},
   "source": [
    "### 1.b.    Classification: Logistic Regression."
   ]
  },
  {
   "cell_type": "code",
   "execution_count": 127,
   "metadata": {},
   "outputs": [],
   "source": [
    "from sklearn.linear_model import LogisticRegression\n",
    "\n",
    "classifier = LogisticRegression(C= 0.1)"
   ]
  },
  {
   "cell_type": "code",
   "execution_count": 128,
   "metadata": {},
   "outputs": [],
   "source": [
    "classifier.fit(X_train, y_train)\n",
    "\n",
    "predictions = classifier.predict(X_test)"
   ]
  },
  {
   "cell_type": "markdown",
   "metadata": {},
   "source": [
    "### Confusion Matrix."
   ]
  },
  {
   "cell_type": "code",
   "execution_count": 129,
   "metadata": {},
   "outputs": [
    {
     "name": "stdout",
     "output_type": "stream",
     "text": [
      "Confusion matrix, without normalization\n"
     ]
    },
    {
     "data": {
      "image/png": "[encoded data removed]",
      "text/plain": [
       "<Figure size 432x288 with 2 Axes>"
      ]
     },
     "metadata": {},
     "output_type": "display_data"
    }
   ],
   "source": [
    "cm = metrics.confusion_matrix(y_test, predictions)\n",
    "\n",
    "plot_confusion_matrix(cm, classes=['Fake', 'Real'])"
   ]
  },
  {
   "cell_type": "code",
   "execution_count": 130,
   "metadata": {
    "scrolled": true
   },
   "outputs": [
    {
     "name": "stdout",
     "output_type": "stream",
     "text": [
      "Accuracy (in %) =  99.7 %\n",
      "ROC - AUC Score (in %) =  99.7 %\n",
      "F1 - Score (in %) =  99.68 %\n"
     ]
    },
    {
     "data": {
      "text/plain": [
       "(99.7, 99.7, 99.68)"
      ]
     },
     "execution_count": 130,
     "metadata": {},
     "output_type": "execute_result"
    }
   ],
   "source": [
    "accuracy_check()"
   ]
  },
  {
   "cell_type": "code",
   "execution_count": 131,
   "metadata": {},
   "outputs": [],
   "source": [
    "text_log_reg_tfidf = dict()\n",
    "text_log_reg_tfidf['accuracy'], text_log_reg_tfidf['roc_auc'], text_log_reg_tfidf['f1_score'] = accuracy_check(False)"
   ]
  },
  {
   "cell_type": "markdown",
   "metadata": {},
   "source": [
    "<hr><hr>"
   ]
  },
  {
   "cell_type": "markdown",
   "metadata": {},
   "source": [
    "## 2.    Using <b>Count Vectorizer</b> to get independent features."
   ]
  },
  {
   "cell_type": "code",
   "execution_count": 81,
   "metadata": {},
   "outputs": [],
   "source": [
    "from sklearn.feature_extraction.text import CountVectorizer as CV\n",
    "\n",
    "cv = CV(stop_words= set(stopwords.words('english')),\n",
    "              max_features=10000,\n",
    "              ngram_range=(1,3))"
   ]
  },
  {
   "cell_type": "code",
   "execution_count": 82,
   "metadata": {},
   "outputs": [],
   "source": [
    "X_vectorized = cv.fit_transform(X).toarray()"
   ]
  },
  {
   "cell_type": "markdown",
   "metadata": {},
   "source": [
    "### Train - Test split."
   ]
  },
  {
   "cell_type": "code",
   "execution_count": 83,
   "metadata": {},
   "outputs": [],
   "source": [
    "X_train, X_test, y_train, y_test = train_test_split(X_vectorized, y, test_size = .25, random_state = 100)"
   ]
  },
  {
   "cell_type": "markdown",
   "metadata": {},
   "source": [
    "### 2.a.    Classification: Multinomial Bayes."
   ]
  },
  {
   "cell_type": "code",
   "execution_count": 84,
   "metadata": {},
   "outputs": [],
   "source": [
    "from sklearn.naive_bayes import MultinomialNB\n",
    "classifier=MultinomialNB(alpha = 1.0)"
   ]
  },
  {
   "cell_type": "code",
   "execution_count": 85,
   "metadata": {},
   "outputs": [],
   "source": [
    "classifier.fit(X_train, y_train)\n",
    "\n",
    "predictions = classifier.predict(X_test)"
   ]
  },
  {
   "cell_type": "markdown",
   "metadata": {},
   "source": [
    "### Confusion Matrix."
   ]
  },
  {
   "cell_type": "code",
   "execution_count": 86,
   "metadata": {},
   "outputs": [
    {
     "name": "stdout",
     "output_type": "stream",
     "text": [
      "Confusion matrix, without normalization\n"
     ]
    },
    {
     "data": {
      "image/png": "[encoded data removed]",
      "text/plain": [
       "<Figure size 432x288 with 2 Axes>"
      ]
     },
     "metadata": {},
     "output_type": "display_data"
    }
   ],
   "source": [
    "cm = metrics.confusion_matrix(y_test, predictions)\n",
    "\n",
    "plot_confusion_matrix(cm, classes=['Fake', 'Real'])"
   ]
  },
  {
   "cell_type": "code",
   "execution_count": 87,
   "metadata": {},
   "outputs": [
    {
     "name": "stdout",
     "output_type": "stream",
     "text": [
      "Accuracy (in %) =  96.49 %\n",
      "ROC - AUC Score (in %) =  96.52 %\n",
      "F1 - Score (in %) =  96.3 %\n"
     ]
    },
    {
     "data": {
      "text/plain": [
       "(96.49, 96.52, 96.3)"
      ]
     },
     "execution_count": 87,
     "metadata": {},
     "output_type": "execute_result"
    }
   ],
   "source": [
    "accuracy_check()"
   ]
  },
  {
   "cell_type": "code",
   "execution_count": 88,
   "metadata": {},
   "outputs": [],
   "source": [
    "text_naive_bayes_cv = dict()\n",
    "text_naive_bayes_cv['accuracy'], text_naive_bayes_cv['roc_auc'], text_naive_bayes_cv['f1_score'] = accuracy_check(False)"
   ]
  },
  {
   "cell_type": "markdown",
   "metadata": {},
   "source": [
    "### 2.b.    Classification: Logistic Regression."
   ]
  },
  {
   "cell_type": "code",
   "execution_count": 89,
   "metadata": {},
   "outputs": [],
   "source": [
    "from sklearn.linear_model import LogisticRegression\n",
    "\n",
    "classifier = LogisticRegression(C= 0.1)"
   ]
  },
  {
   "cell_type": "code",
   "execution_count": 90,
   "metadata": {},
   "outputs": [],
   "source": [
    "classifier.fit(X_train, y_train)\n",
    "\n",
    "predictions = classifier.predict(X_test)"
   ]
  },
  {
   "cell_type": "markdown",
   "metadata": {},
   "source": [
    "### Confusion Matrix."
   ]
  },
  {
   "cell_type": "code",
   "execution_count": 91,
   "metadata": {},
   "outputs": [
    {
     "name": "stdout",
     "output_type": "stream",
     "text": [
      "Confusion matrix, without normalization\n"
     ]
    },
    {
     "data": {
      "image/png": "[encoded data removed]",
      "text/plain": [
       "<Figure size 432x288 with 2 Axes>"
      ]
     },
     "metadata": {},
     "output_type": "display_data"
    }
   ],
   "source": [
    "cm = metrics.confusion_matrix(y_test, predictions)\n",
    "\n",
    "plot_confusion_matrix(cm, classes=['Fake', 'Real'])"
   ]
  },
  {
   "cell_type": "code",
   "execution_count": 92,
   "metadata": {
    "scrolled": true
   },
   "outputs": [
    {
     "name": "stdout",
     "output_type": "stream",
     "text": [
      "Accuracy (in %) =  99.7 %\n",
      "ROC - AUC Score (in %) =  99.7 %\n",
      "F1 - Score (in %) =  99.68 %\n"
     ]
    },
    {
     "data": {
      "text/plain": [
       "(99.7, 99.7, 99.68)"
      ]
     },
     "execution_count": 92,
     "metadata": {},
     "output_type": "execute_result"
    }
   ],
   "source": [
    "accuracy_check()"
   ]
  },
  {
   "cell_type": "code",
   "execution_count": 93,
   "metadata": {},
   "outputs": [],
   "source": [
    "text_log_reg_cv = dict()\n",
    "text_log_reg_cv['accuracy'], text_log_reg_cv['roc_auc'], text_log_reg_cv['f1_score'] = accuracy_check(False)"
   ]
  },
  {
   "cell_type": "markdown",
   "metadata": {},
   "source": [
    "<hr>"
   ]
  },
  {
   "cell_type": "markdown",
   "metadata": {},
   "source": [
    "## Summarizing the results."
   ]
  },
  {
   "cell_type": "markdown",
   "metadata": {},
   "source": [
    "### I. Using TITLES."
   ]
  },
  {
   "cell_type": "code",
   "execution_count": 113,
   "metadata": {},
   "outputs": [],
   "source": [
    "summary_title_accuracy = pd.DataFrame({\n",
    "    'TFIDF': [title_naive_bayes_tfidf['accuracy'], title_log_reg_tfidf['accuracy']],\n",
    "    'Count_Vectorizer': [title_naive_bayes_cv['accuracy'], title_log_reg_cv['accuracy']]\n",
    "}, index=['Naive Bayes', 'Logistic Regression'])"
   ]
  },
  {
   "cell_type": "code",
   "execution_count": 114,
   "metadata": {},
   "outputs": [],
   "source": [
    "summary_title_roc_auc = pd.DataFrame({\n",
    "    'TFIDF': [title_naive_bayes_tfidf['roc_auc'], title_log_reg_tfidf['roc_auc']],\n",
    "    'Count_Vectorizer': [title_naive_bayes_cv['roc_auc'], title_log_reg_cv['roc_auc']]\n",
    "}, index=['Naive Bayes', 'Logistic Regression'])"
   ]
  },
  {
   "cell_type": "code",
   "execution_count": 115,
   "metadata": {},
   "outputs": [],
   "source": [
    "summary_title_f1_score = pd.DataFrame({\n",
    "    'TFIDF': [title_naive_bayes_tfidf['f1_score'], title_log_reg_tfidf['f1_score']],\n",
    "    'Count_Vectorizer': [title_naive_bayes_cv['f1_score'], title_log_reg_cv['f1_score']]\n",
    "}, index=['Naive Bayes', 'Logistic Regression'])"
   ]
  },
  {
   "cell_type": "code",
   "execution_count": 125,
   "metadata": {
    "scrolled": true
   },
   "outputs": [
    {
     "name": "stdout",
     "output_type": "stream",
     "text": [
      "Accuracy using TITLES: \n",
      "\n",
      "                     TFIDF  Count_Vectorizer\n",
      "Naive Bayes          93.69             96.49\n",
      "Logistic Regression  92.93             93.95\n",
      "\n",
      "-------------------------------------\n",
      "\n",
      "ROC - AUC Score using TITLES: \n",
      "\n",
      "                     TFIDF  Count_Vectorizer\n",
      "Naive Bayes          93.61             96.52\n",
      "Logistic Regression  92.98             94.07\n",
      "\n",
      "-------------------------------------\n",
      "\n",
      "F1 Score using TITLES: \n",
      "\n",
      "                     TFIDF  Count_Vectorizer\n",
      "Naive Bayes          93.23             96.30\n",
      "Logistic Regression  92.61             93.74\n",
      "\n",
      "-------------------------------------\n",
      "\n"
     ]
    }
   ],
   "source": [
    "print('Accuracy using TITLES: \\n')\n",
    "print(summary_title_accuracy)\n",
    "print('\\n-------------------------------------\\n')\n",
    "print('ROC - AUC Score using TITLES: \\n')\n",
    "print(summary_title_roc_auc)\n",
    "print('\\n-------------------------------------\\n')\n",
    "print('F1 Score using TITLES: \\n')\n",
    "print(summary_title_f1_score)\n",
    "print('\\n-------------------------------------\\n')"
   ]
  },
  {
   "cell_type": "markdown",
   "metadata": {},
   "source": [
    "### II. Using TEXTS."
   ]
  },
  {
   "cell_type": "code",
   "execution_count": 132,
   "metadata": {},
   "outputs": [],
   "source": [
    "summary_text_accuracy = pd.DataFrame({\n",
    "    'TFIDF': [text_naive_bayes_tfidf['accuracy'], text_log_reg_tfidf['accuracy']],\n",
    "    'Count_Vectorizer': [text_naive_bayes_cv['accuracy'], text_log_reg_cv['accuracy']]\n",
    "}, index=['Naive Bayes', 'Logistic Regression'])\n",
    "\n",
    "summary_text_roc_auc = pd.DataFrame({\n",
    "    'TFIDF': [text_naive_bayes_tfidf['roc_auc'], text_log_reg_tfidf['roc_auc']],\n",
    "    'Count_Vectorizer': [text_naive_bayes_cv['roc_auc'], text_log_reg_cv['roc_auc']]\n",
    "}, index=['Naive Bayes', 'Logistic Regression'])\n",
    "\n",
    "summary_text_f1_score = pd.DataFrame({\n",
    "    'TFIDF': [text_naive_bayes_tfidf['f1_score'], text_log_reg_tfidf['f1_score']],\n",
    "    'Count_Vectorizer': [text_naive_bayes_cv['f1_score'], text_log_reg_cv['f1_score']]\n",
    "}, index=['Naive Bayes', 'Logistic Regression'])"
   ]
  },
  {
   "cell_type": "code",
   "execution_count": 135,
   "metadata": {},
   "outputs": [
    {
     "name": "stdout",
     "output_type": "stream",
     "text": [
      "Accuracy using text: \n",
      "\n",
      "                     TFIDF  Count_Vectorizer\n",
      "Naive Bayes          95.48             96.49\n",
      "Logistic Regression  99.70             99.70\n",
      "\n",
      "-------------------------------------\n",
      "\n",
      "ROC - AUC Score using text: \n",
      "\n",
      "                     TFIDF  Count_Vectorizer\n",
      "Naive Bayes          95.48             96.52\n",
      "Logistic Regression  99.70             99.70\n",
      "\n",
      "-------------------------------------\n",
      "\n",
      "F1 Score using text: \n",
      "\n",
      "                     TFIDF  Count_Vectorizer\n",
      "Naive Bayes          95.22             96.30\n",
      "Logistic Regression  99.68             99.68\n",
      "\n",
      "-------------------------------------\n",
      "\n"
     ]
    }
   ],
   "source": [
    "print('Accuracy using text: \\n')\n",
    "print(summary_text_accuracy)\n",
    "print('\\n-------------------------------------\\n')\n",
    "print('ROC - AUC Score using text: \\n')\n",
    "print(summary_text_roc_auc)\n",
    "print('\\n-------------------------------------\\n')\n",
    "print('F1 Score using text: \\n')\n",
    "print(summary_text_f1_score)\n",
    "print('\\n-------------------------------------\\n')"
   ]
  },
  {
   "cell_type": "markdown",
   "metadata": {},
   "source": [
    "##### Logistic Regression using text gives the best results."
   ]
  },
  {
   "cell_type": "markdown",
   "metadata": {},
   "source": [
    "# The End."
   ]
  }
 ],
 "metadata": {
  "kernelspec": {
   "display_name": "Python 3",
   "language": "python",
   "name": "python3"
  },
  "language_info": {
   "codemirror_mode": {
    "name": "ipython",
    "version": 3
   },
   "file_extension": ".py",
   "mimetype": "text/x-python",
   "name": "python",
   "nbconvert_exporter": "python",
   "pygments_lexer": "ipython3",
   "version": "3.7.5"
  }
 },
 "nbformat": 4,
 "nbformat_minor": 4
}
